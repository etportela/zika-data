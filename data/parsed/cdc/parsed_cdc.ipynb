{
 "cells": [
  {
   "cell_type": "code",
   "execution_count": 1,
   "metadata": {},
   "outputs": [],
   "source": [
    "import pandas as pd"
   ]
  },
  {
   "cell_type": "code",
   "execution_count": 2,
   "metadata": {},
   "outputs": [],
   "source": [
    "import glob"
   ]
  },
  {
   "cell_type": "code",
   "execution_count": 11,
   "metadata": {},
   "outputs": [],
   "source": [
    "import os"
   ]
  },
  {
   "cell_type": "code",
   "execution_count": 12,
   "metadata": {},
   "outputs": [
    {
     "name": "stdout",
     "output_type": "stream",
     "text": [
      "*.csv\n"
     ]
    }
   ],
   "source": [
    "path = 'C:\\\\mbafiabigdatat8\\\\zika-data\\\\data\\\\parsed\\\\cdc\\\\*.csv'\n",
    "print(os.path.basename(path))"
   ]
  },
  {
   "cell_type": "code",
   "execution_count": 4,
   "metadata": {},
   "outputs": [],
   "source": [
    "files = glob.glob(path)\n",
    "dados_estados = list()\n",
    "dados_resumo = list()"
   ]
  },
  {
   "cell_type": "code",
   "execution_count": 13,
   "metadata": {},
   "outputs": [],
   "source": [
    "#teste\n",
    "dados = []\n",
    "tipo = []\n",
    "for name in files:\n",
    "    pd1 = pd.read_csv(name)\n",
    "    nomearq = os.path.basename(name)\n",
    "    pd1['nomearq'] = nomearq\n",
    "    tipo.append(pd1.columns.values[0])\n",
    "    dados.append(pd1)"
   ]
  },
  {
   "cell_type": "code",
   "execution_count": 17,
   "metadata": {},
   "outputs": [
    {
     "data": {
      "text/plain": [
       "['state_or_territory',\n",
       " 'state_or_territory',\n",
       " 'state_or_territory',\n",
       " 'state_or_territory',\n",
       " 'state_or_territory',\n",
       " 'state_or_territory',\n",
       " 'state_or_territory',\n",
       " 'state_or_territory',\n",
       " 'state_or_territory',\n",
       " 'state_or_territory',\n",
       " 'state_or_territory',\n",
       " 'state_or_territory',\n",
       " 'state_or_territory',\n",
       " 'state_or_territory',\n",
       " 'state_or_territory',\n",
       " 'state_or_territory',\n",
       " 'state_or_territory',\n",
       " 'state_or_territory',\n",
       " 'state_or_territory',\n",
       " 'state_or_territory',\n",
       " 'state_or_territory',\n",
       " 'state_or_territory',\n",
       " 'state_or_territory',\n",
       " 'state_or_territory',\n",
       " 'state_or_territory',\n",
       " 'state_or_territory',\n",
       " 'state_or_territory',\n",
       " 'state_or_territory',\n",
       " 'state_or_territory',\n",
       " 'state_or_territory',\n",
       " 'state_or_territory',\n",
       " 'state_or_territory',\n",
       " 'state_or_territory',\n",
       " 'state_or_territory',\n",
       " 'state_or_territory',\n",
       " 'state_or_territory',\n",
       " 'state_or_territory',\n",
       " 'state_or_territory',\n",
       " 'state_or_territory',\n",
       " 'state_or_territory',\n",
       " 'state_or_territory',\n",
       " 'state_or_territory',\n",
       " 'state_or_territory',\n",
       " 'state_or_territory',\n",
       " 'state_or_territory',\n",
       " 'state_or_territory',\n",
       " 'state_or_territory',\n",
       " 'state_or_territory',\n",
       " 'state_or_territory',\n",
       " 'state_or_territory',\n",
       " 'state_or_territory',\n",
       " 'state_or_territory',\n",
       " 'state_or_territory',\n",
       " 'state_or_territory',\n",
       " 'state_or_territory',\n",
       " 'state_or_territory',\n",
       " 'state_or_territory',\n",
       " 'state_or_territory',\n",
       " 'state_or_territory',\n",
       " 'state_or_territory',\n",
       " 'state_or_territory',\n",
       " 'state_or_territory',\n",
       " 'state_or_territory',\n",
       " 'state_or_territory',\n",
       " 'state_or_territory',\n",
       " 'state_or_territory',\n",
       " 'state_or_territory',\n",
       " 'state_or_territory',\n",
       " 'state_or_territory',\n",
       " 'state_or_territory',\n",
       " 'state_or_territory',\n",
       " 'state_or_territory',\n",
       " 'state_or_territory',\n",
       " 'state_or_territory',\n",
       " 'state_or_territory',\n",
       " 'state_or_territory',\n",
       " 'state_or_territory',\n",
       " 'state_or_territory',\n",
       " 'state_or_territory',\n",
       " 'state_or_territory',\n",
       " 'state_or_territory',\n",
       " 'state_or_territory',\n",
       " 'state_or_territory',\n",
       " 'state_or_territory',\n",
       " 'state_or_territory',\n",
       " 'state_or_territory',\n",
       " 'state_or_territory',\n",
       " 'state_or_territory',\n",
       " 'state_or_territory',\n",
       " 'state_or_territory',\n",
       " 'state_or_territory',\n",
       " 'state_or_territory',\n",
       " 'state_or_territory',\n",
       " 'state_or_territory',\n",
       " 'state_or_territory',\n",
       " 'state_or_territory',\n",
       " 'state_or_territory',\n",
       " 'state_or_territory',\n",
       " 'state_or_territory',\n",
       " 'state_or_territory']"
      ]
     },
     "execution_count": 17,
     "metadata": {},
     "output_type": "execute_result"
    }
   ],
   "source": []
  },
  {
   "cell_type": "code",
   "execution_count": null,
   "metadata": {},
   "outputs": [],
   "source": []
  }
 ],
 "metadata": {
  "kernelspec": {
   "display_name": "Python 3",
   "language": "python",
   "name": "python3"
  },
  "language_info": {
   "codemirror_mode": {
    "name": "ipython",
    "version": 3
   },
   "file_extension": ".py",
   "mimetype": "text/x-python",
   "name": "python",
   "nbconvert_exporter": "python",
   "pygments_lexer": "ipython3",
   "version": "3.6.3"
  }
 },
 "nbformat": 4,
 "nbformat_minor": 2
}
