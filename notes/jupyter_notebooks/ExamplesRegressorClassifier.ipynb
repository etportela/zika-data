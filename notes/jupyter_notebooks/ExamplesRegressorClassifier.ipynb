{
 "cells": [
  {
   "cell_type": "markdown",
   "metadata": {},
   "source": [
    "# Regressor"
   ]
  },
  {
   "cell_type": "markdown",
   "metadata": {},
   "source": [
    "## Gastos Cartao"
   ]
  },
  {
   "cell_type": "code",
   "execution_count": 3,
   "metadata": {
    "collapsed": true
   },
   "outputs": [],
   "source": [
    "import pandas as pd\n",
    "import numpy as np\n",
    "import sklearn as sk\n",
    "import matplotlib.pyplot as plt\n",
    "%matplotlib inline"
   ]
  },
  {
   "cell_type": "code",
   "execution_count": 4,
   "metadata": {
    "collapsed": true
   },
   "outputs": [],
   "source": [
    "gastos = pd.read_csv(\"base_gastos_cartao.csv\")"
   ]
  },
  {
   "cell_type": "code",
   "execution_count": 5,
   "metadata": {
    "collapsed": false
   },
   "outputs": [
    {
     "data": {
      "text/plain": [
       "(150, 5)"
      ]
     },
     "execution_count": 5,
     "metadata": {},
     "output_type": "execute_result"
    }
   ],
   "source": [
    "gastos.shape"
   ]
  },
  {
   "cell_type": "code",
   "execution_count": 6,
   "metadata": {
    "collapsed": false
   },
   "outputs": [
    {
     "data": {
      "text/html": [
       "<div>\n",
       "<style scoped>\n",
       "    .dataframe tbody tr th:only-of-type {\n",
       "        vertical-align: middle;\n",
       "    }\n",
       "\n",
       "    .dataframe tbody tr th {\n",
       "        vertical-align: top;\n",
       "    }\n",
       "\n",
       "    .dataframe thead th {\n",
       "        text-align: right;\n",
       "    }\n",
       "</style>\n",
       "<table border=\"1\" class=\"dataframe\">\n",
       "  <thead>\n",
       "    <tr style=\"text-align: right;\">\n",
       "      <th></th>\n",
       "      <th>Gastos_Cartao</th>\n",
       "      <th>Idade</th>\n",
       "      <th>Renda</th>\n",
       "      <th>Impostos</th>\n",
       "      <th>Segmento</th>\n",
       "    </tr>\n",
       "  </thead>\n",
       "  <tbody>\n",
       "    <tr>\n",
       "      <th>0</th>\n",
       "      <td>510</td>\n",
       "      <td>35</td>\n",
       "      <td>1120</td>\n",
       "      <td>60</td>\n",
       "      <td>C</td>\n",
       "    </tr>\n",
       "    <tr>\n",
       "      <th>1</th>\n",
       "      <td>490</td>\n",
       "      <td>30</td>\n",
       "      <td>1120</td>\n",
       "      <td>60</td>\n",
       "      <td>C</td>\n",
       "    </tr>\n",
       "    <tr>\n",
       "      <th>2</th>\n",
       "      <td>470</td>\n",
       "      <td>32</td>\n",
       "      <td>1040</td>\n",
       "      <td>60</td>\n",
       "      <td>C</td>\n",
       "    </tr>\n",
       "    <tr>\n",
       "      <th>3</th>\n",
       "      <td>460</td>\n",
       "      <td>31</td>\n",
       "      <td>1200</td>\n",
       "      <td>60</td>\n",
       "      <td>C</td>\n",
       "    </tr>\n",
       "    <tr>\n",
       "      <th>4</th>\n",
       "      <td>500</td>\n",
       "      <td>36</td>\n",
       "      <td>1120</td>\n",
       "      <td>60</td>\n",
       "      <td>C</td>\n",
       "    </tr>\n",
       "  </tbody>\n",
       "</table>\n",
       "</div>"
      ],
      "text/plain": [
       "   Gastos_Cartao  Idade  Renda  Impostos Segmento\n",
       "0            510     35   1120        60        C\n",
       "1            490     30   1120        60        C\n",
       "2            470     32   1040        60        C\n",
       "3            460     31   1200        60        C\n",
       "4            500     36   1120        60        C"
      ]
     },
     "execution_count": 6,
     "metadata": {},
     "output_type": "execute_result"
    }
   ],
   "source": [
    "gastos.head()"
   ]
  },
  {
   "cell_type": "markdown",
   "metadata": {},
   "source": [
    "## Train Test Split"
   ]
  },
  {
   "cell_type": "code",
   "execution_count": 7,
   "metadata": {
    "collapsed": true
   },
   "outputs": [],
   "source": [
    "from sklearn.model_selection import train_test_split"
   ]
  },
  {
   "cell_type": "code",
   "execution_count": 8,
   "metadata": {
    "collapsed": true
   },
   "outputs": [],
   "source": [
    "X = pd.concat([gastos[['Idade', 'Renda', 'Impostos']], pd.get_dummies(gastos.Segmento)], axis=1)"
   ]
  },
  {
   "cell_type": "code",
   "execution_count": 9,
   "metadata": {
    "collapsed": false,
    "scrolled": true
   },
   "outputs": [
    {
     "data": {
      "text/html": [
       "<div>\n",
       "<style scoped>\n",
       "    .dataframe tbody tr th:only-of-type {\n",
       "        vertical-align: middle;\n",
       "    }\n",
       "\n",
       "    .dataframe tbody tr th {\n",
       "        vertical-align: top;\n",
       "    }\n",
       "\n",
       "    .dataframe thead th {\n",
       "        text-align: right;\n",
       "    }\n",
       "</style>\n",
       "<table border=\"1\" class=\"dataframe\">\n",
       "  <thead>\n",
       "    <tr style=\"text-align: right;\">\n",
       "      <th></th>\n",
       "      <th>Idade</th>\n",
       "      <th>Renda</th>\n",
       "      <th>Impostos</th>\n",
       "      <th>A</th>\n",
       "      <th>B</th>\n",
       "      <th>C</th>\n",
       "    </tr>\n",
       "  </thead>\n",
       "  <tbody>\n",
       "    <tr>\n",
       "      <th>0</th>\n",
       "      <td>35</td>\n",
       "      <td>1120</td>\n",
       "      <td>60</td>\n",
       "      <td>0</td>\n",
       "      <td>0</td>\n",
       "      <td>1</td>\n",
       "    </tr>\n",
       "    <tr>\n",
       "      <th>1</th>\n",
       "      <td>30</td>\n",
       "      <td>1120</td>\n",
       "      <td>60</td>\n",
       "      <td>0</td>\n",
       "      <td>0</td>\n",
       "      <td>1</td>\n",
       "    </tr>\n",
       "    <tr>\n",
       "      <th>2</th>\n",
       "      <td>32</td>\n",
       "      <td>1040</td>\n",
       "      <td>60</td>\n",
       "      <td>0</td>\n",
       "      <td>0</td>\n",
       "      <td>1</td>\n",
       "    </tr>\n",
       "    <tr>\n",
       "      <th>3</th>\n",
       "      <td>31</td>\n",
       "      <td>1200</td>\n",
       "      <td>60</td>\n",
       "      <td>0</td>\n",
       "      <td>0</td>\n",
       "      <td>1</td>\n",
       "    </tr>\n",
       "    <tr>\n",
       "      <th>4</th>\n",
       "      <td>36</td>\n",
       "      <td>1120</td>\n",
       "      <td>60</td>\n",
       "      <td>0</td>\n",
       "      <td>0</td>\n",
       "      <td>1</td>\n",
       "    </tr>\n",
       "    <tr>\n",
       "      <th>5</th>\n",
       "      <td>39</td>\n",
       "      <td>1360</td>\n",
       "      <td>120</td>\n",
       "      <td>0</td>\n",
       "      <td>0</td>\n",
       "      <td>1</td>\n",
       "    </tr>\n",
       "    <tr>\n",
       "      <th>6</th>\n",
       "      <td>34</td>\n",
       "      <td>1120</td>\n",
       "      <td>90</td>\n",
       "      <td>0</td>\n",
       "      <td>0</td>\n",
       "      <td>1</td>\n",
       "    </tr>\n",
       "    <tr>\n",
       "      <th>7</th>\n",
       "      <td>34</td>\n",
       "      <td>1200</td>\n",
       "      <td>60</td>\n",
       "      <td>0</td>\n",
       "      <td>0</td>\n",
       "      <td>1</td>\n",
       "    </tr>\n",
       "    <tr>\n",
       "      <th>8</th>\n",
       "      <td>29</td>\n",
       "      <td>1120</td>\n",
       "      <td>60</td>\n",
       "      <td>0</td>\n",
       "      <td>0</td>\n",
       "      <td>1</td>\n",
       "    </tr>\n",
       "    <tr>\n",
       "      <th>9</th>\n",
       "      <td>31</td>\n",
       "      <td>1200</td>\n",
       "      <td>30</td>\n",
       "      <td>0</td>\n",
       "      <td>0</td>\n",
       "      <td>1</td>\n",
       "    </tr>\n",
       "    <tr>\n",
       "      <th>10</th>\n",
       "      <td>37</td>\n",
       "      <td>1200</td>\n",
       "      <td>60</td>\n",
       "      <td>0</td>\n",
       "      <td>0</td>\n",
       "      <td>1</td>\n",
       "    </tr>\n",
       "    <tr>\n",
       "      <th>11</th>\n",
       "      <td>34</td>\n",
       "      <td>1280</td>\n",
       "      <td>60</td>\n",
       "      <td>0</td>\n",
       "      <td>0</td>\n",
       "      <td>1</td>\n",
       "    </tr>\n",
       "    <tr>\n",
       "      <th>12</th>\n",
       "      <td>30</td>\n",
       "      <td>1120</td>\n",
       "      <td>30</td>\n",
       "      <td>0</td>\n",
       "      <td>0</td>\n",
       "      <td>1</td>\n",
       "    </tr>\n",
       "    <tr>\n",
       "      <th>13</th>\n",
       "      <td>30</td>\n",
       "      <td>880</td>\n",
       "      <td>30</td>\n",
       "      <td>0</td>\n",
       "      <td>0</td>\n",
       "      <td>1</td>\n",
       "    </tr>\n",
       "    <tr>\n",
       "      <th>14</th>\n",
       "      <td>40</td>\n",
       "      <td>960</td>\n",
       "      <td>60</td>\n",
       "      <td>0</td>\n",
       "      <td>0</td>\n",
       "      <td>1</td>\n",
       "    </tr>\n",
       "    <tr>\n",
       "      <th>15</th>\n",
       "      <td>44</td>\n",
       "      <td>1200</td>\n",
       "      <td>120</td>\n",
       "      <td>0</td>\n",
       "      <td>0</td>\n",
       "      <td>1</td>\n",
       "    </tr>\n",
       "    <tr>\n",
       "      <th>16</th>\n",
       "      <td>39</td>\n",
       "      <td>1040</td>\n",
       "      <td>120</td>\n",
       "      <td>0</td>\n",
       "      <td>0</td>\n",
       "      <td>1</td>\n",
       "    </tr>\n",
       "    <tr>\n",
       "      <th>17</th>\n",
       "      <td>35</td>\n",
       "      <td>1120</td>\n",
       "      <td>90</td>\n",
       "      <td>0</td>\n",
       "      <td>0</td>\n",
       "      <td>1</td>\n",
       "    </tr>\n",
       "    <tr>\n",
       "      <th>18</th>\n",
       "      <td>38</td>\n",
       "      <td>1360</td>\n",
       "      <td>90</td>\n",
       "      <td>0</td>\n",
       "      <td>0</td>\n",
       "      <td>1</td>\n",
       "    </tr>\n",
       "    <tr>\n",
       "      <th>19</th>\n",
       "      <td>38</td>\n",
       "      <td>1200</td>\n",
       "      <td>90</td>\n",
       "      <td>0</td>\n",
       "      <td>0</td>\n",
       "      <td>1</td>\n",
       "    </tr>\n",
       "    <tr>\n",
       "      <th>20</th>\n",
       "      <td>34</td>\n",
       "      <td>1360</td>\n",
       "      <td>60</td>\n",
       "      <td>0</td>\n",
       "      <td>0</td>\n",
       "      <td>1</td>\n",
       "    </tr>\n",
       "    <tr>\n",
       "      <th>21</th>\n",
       "      <td>37</td>\n",
       "      <td>1200</td>\n",
       "      <td>120</td>\n",
       "      <td>0</td>\n",
       "      <td>0</td>\n",
       "      <td>1</td>\n",
       "    </tr>\n",
       "    <tr>\n",
       "      <th>22</th>\n",
       "      <td>36</td>\n",
       "      <td>800</td>\n",
       "      <td>60</td>\n",
       "      <td>0</td>\n",
       "      <td>0</td>\n",
       "      <td>1</td>\n",
       "    </tr>\n",
       "    <tr>\n",
       "      <th>23</th>\n",
       "      <td>33</td>\n",
       "      <td>1360</td>\n",
       "      <td>150</td>\n",
       "      <td>0</td>\n",
       "      <td>0</td>\n",
       "      <td>1</td>\n",
       "    </tr>\n",
       "    <tr>\n",
       "      <th>24</th>\n",
       "      <td>34</td>\n",
       "      <td>1520</td>\n",
       "      <td>60</td>\n",
       "      <td>0</td>\n",
       "      <td>0</td>\n",
       "      <td>1</td>\n",
       "    </tr>\n",
       "    <tr>\n",
       "      <th>25</th>\n",
       "      <td>30</td>\n",
       "      <td>1280</td>\n",
       "      <td>60</td>\n",
       "      <td>0</td>\n",
       "      <td>0</td>\n",
       "      <td>1</td>\n",
       "    </tr>\n",
       "    <tr>\n",
       "      <th>26</th>\n",
       "      <td>34</td>\n",
       "      <td>1280</td>\n",
       "      <td>120</td>\n",
       "      <td>0</td>\n",
       "      <td>0</td>\n",
       "      <td>1</td>\n",
       "    </tr>\n",
       "    <tr>\n",
       "      <th>27</th>\n",
       "      <td>35</td>\n",
       "      <td>1200</td>\n",
       "      <td>60</td>\n",
       "      <td>0</td>\n",
       "      <td>0</td>\n",
       "      <td>1</td>\n",
       "    </tr>\n",
       "    <tr>\n",
       "      <th>28</th>\n",
       "      <td>34</td>\n",
       "      <td>1120</td>\n",
       "      <td>60</td>\n",
       "      <td>0</td>\n",
       "      <td>0</td>\n",
       "      <td>1</td>\n",
       "    </tr>\n",
       "    <tr>\n",
       "      <th>29</th>\n",
       "      <td>32</td>\n",
       "      <td>1280</td>\n",
       "      <td>60</td>\n",
       "      <td>0</td>\n",
       "      <td>0</td>\n",
       "      <td>1</td>\n",
       "    </tr>\n",
       "    <tr>\n",
       "      <th>...</th>\n",
       "      <td>...</td>\n",
       "      <td>...</td>\n",
       "      <td>...</td>\n",
       "      <td>...</td>\n",
       "      <td>...</td>\n",
       "      <td>...</td>\n",
       "    </tr>\n",
       "    <tr>\n",
       "      <th>120</th>\n",
       "      <td>32</td>\n",
       "      <td>4560</td>\n",
       "      <td>690</td>\n",
       "      <td>1</td>\n",
       "      <td>0</td>\n",
       "      <td>0</td>\n",
       "    </tr>\n",
       "    <tr>\n",
       "      <th>121</th>\n",
       "      <td>28</td>\n",
       "      <td>3920</td>\n",
       "      <td>600</td>\n",
       "      <td>1</td>\n",
       "      <td>0</td>\n",
       "      <td>0</td>\n",
       "    </tr>\n",
       "    <tr>\n",
       "      <th>122</th>\n",
       "      <td>28</td>\n",
       "      <td>5360</td>\n",
       "      <td>600</td>\n",
       "      <td>1</td>\n",
       "      <td>0</td>\n",
       "      <td>0</td>\n",
       "    </tr>\n",
       "    <tr>\n",
       "      <th>123</th>\n",
       "      <td>27</td>\n",
       "      <td>3920</td>\n",
       "      <td>540</td>\n",
       "      <td>1</td>\n",
       "      <td>0</td>\n",
       "      <td>0</td>\n",
       "    </tr>\n",
       "    <tr>\n",
       "      <th>124</th>\n",
       "      <td>33</td>\n",
       "      <td>4560</td>\n",
       "      <td>630</td>\n",
       "      <td>1</td>\n",
       "      <td>0</td>\n",
       "      <td>0</td>\n",
       "    </tr>\n",
       "    <tr>\n",
       "      <th>125</th>\n",
       "      <td>32</td>\n",
       "      <td>4800</td>\n",
       "      <td>540</td>\n",
       "      <td>1</td>\n",
       "      <td>0</td>\n",
       "      <td>0</td>\n",
       "    </tr>\n",
       "    <tr>\n",
       "      <th>126</th>\n",
       "      <td>28</td>\n",
       "      <td>3840</td>\n",
       "      <td>540</td>\n",
       "      <td>1</td>\n",
       "      <td>0</td>\n",
       "      <td>0</td>\n",
       "    </tr>\n",
       "    <tr>\n",
       "      <th>127</th>\n",
       "      <td>30</td>\n",
       "      <td>3920</td>\n",
       "      <td>540</td>\n",
       "      <td>1</td>\n",
       "      <td>0</td>\n",
       "      <td>0</td>\n",
       "    </tr>\n",
       "    <tr>\n",
       "      <th>128</th>\n",
       "      <td>28</td>\n",
       "      <td>4480</td>\n",
       "      <td>630</td>\n",
       "      <td>1</td>\n",
       "      <td>0</td>\n",
       "      <td>0</td>\n",
       "    </tr>\n",
       "    <tr>\n",
       "      <th>129</th>\n",
       "      <td>30</td>\n",
       "      <td>4640</td>\n",
       "      <td>480</td>\n",
       "      <td>1</td>\n",
       "      <td>0</td>\n",
       "      <td>0</td>\n",
       "    </tr>\n",
       "    <tr>\n",
       "      <th>130</th>\n",
       "      <td>28</td>\n",
       "      <td>4880</td>\n",
       "      <td>570</td>\n",
       "      <td>1</td>\n",
       "      <td>0</td>\n",
       "      <td>0</td>\n",
       "    </tr>\n",
       "    <tr>\n",
       "      <th>131</th>\n",
       "      <td>38</td>\n",
       "      <td>5120</td>\n",
       "      <td>600</td>\n",
       "      <td>1</td>\n",
       "      <td>0</td>\n",
       "      <td>0</td>\n",
       "    </tr>\n",
       "    <tr>\n",
       "      <th>132</th>\n",
       "      <td>28</td>\n",
       "      <td>4480</td>\n",
       "      <td>660</td>\n",
       "      <td>1</td>\n",
       "      <td>0</td>\n",
       "      <td>0</td>\n",
       "    </tr>\n",
       "    <tr>\n",
       "      <th>133</th>\n",
       "      <td>28</td>\n",
       "      <td>4080</td>\n",
       "      <td>450</td>\n",
       "      <td>1</td>\n",
       "      <td>0</td>\n",
       "      <td>0</td>\n",
       "    </tr>\n",
       "    <tr>\n",
       "      <th>134</th>\n",
       "      <td>26</td>\n",
       "      <td>4480</td>\n",
       "      <td>420</td>\n",
       "      <td>1</td>\n",
       "      <td>0</td>\n",
       "      <td>0</td>\n",
       "    </tr>\n",
       "    <tr>\n",
       "      <th>135</th>\n",
       "      <td>30</td>\n",
       "      <td>4880</td>\n",
       "      <td>690</td>\n",
       "      <td>1</td>\n",
       "      <td>0</td>\n",
       "      <td>0</td>\n",
       "    </tr>\n",
       "    <tr>\n",
       "      <th>136</th>\n",
       "      <td>34</td>\n",
       "      <td>4480</td>\n",
       "      <td>720</td>\n",
       "      <td>1</td>\n",
       "      <td>0</td>\n",
       "      <td>0</td>\n",
       "    </tr>\n",
       "    <tr>\n",
       "      <th>137</th>\n",
       "      <td>31</td>\n",
       "      <td>4400</td>\n",
       "      <td>540</td>\n",
       "      <td>1</td>\n",
       "      <td>0</td>\n",
       "      <td>0</td>\n",
       "    </tr>\n",
       "    <tr>\n",
       "      <th>138</th>\n",
       "      <td>30</td>\n",
       "      <td>3840</td>\n",
       "      <td>540</td>\n",
       "      <td>1</td>\n",
       "      <td>0</td>\n",
       "      <td>0</td>\n",
       "    </tr>\n",
       "    <tr>\n",
       "      <th>139</th>\n",
       "      <td>31</td>\n",
       "      <td>4320</td>\n",
       "      <td>630</td>\n",
       "      <td>1</td>\n",
       "      <td>0</td>\n",
       "      <td>0</td>\n",
       "    </tr>\n",
       "    <tr>\n",
       "      <th>140</th>\n",
       "      <td>31</td>\n",
       "      <td>4480</td>\n",
       "      <td>720</td>\n",
       "      <td>1</td>\n",
       "      <td>0</td>\n",
       "      <td>0</td>\n",
       "    </tr>\n",
       "    <tr>\n",
       "      <th>141</th>\n",
       "      <td>31</td>\n",
       "      <td>4080</td>\n",
       "      <td>690</td>\n",
       "      <td>1</td>\n",
       "      <td>0</td>\n",
       "      <td>0</td>\n",
       "    </tr>\n",
       "    <tr>\n",
       "      <th>142</th>\n",
       "      <td>27</td>\n",
       "      <td>4080</td>\n",
       "      <td>570</td>\n",
       "      <td>1</td>\n",
       "      <td>0</td>\n",
       "      <td>0</td>\n",
       "    </tr>\n",
       "    <tr>\n",
       "      <th>143</th>\n",
       "      <td>32</td>\n",
       "      <td>4720</td>\n",
       "      <td>690</td>\n",
       "      <td>1</td>\n",
       "      <td>0</td>\n",
       "      <td>0</td>\n",
       "    </tr>\n",
       "    <tr>\n",
       "      <th>144</th>\n",
       "      <td>33</td>\n",
       "      <td>4560</td>\n",
       "      <td>750</td>\n",
       "      <td>1</td>\n",
       "      <td>0</td>\n",
       "      <td>0</td>\n",
       "    </tr>\n",
       "    <tr>\n",
       "      <th>145</th>\n",
       "      <td>30</td>\n",
       "      <td>4160</td>\n",
       "      <td>690</td>\n",
       "      <td>1</td>\n",
       "      <td>0</td>\n",
       "      <td>0</td>\n",
       "    </tr>\n",
       "    <tr>\n",
       "      <th>146</th>\n",
       "      <td>25</td>\n",
       "      <td>4000</td>\n",
       "      <td>570</td>\n",
       "      <td>1</td>\n",
       "      <td>0</td>\n",
       "      <td>0</td>\n",
       "    </tr>\n",
       "    <tr>\n",
       "      <th>147</th>\n",
       "      <td>30</td>\n",
       "      <td>4160</td>\n",
       "      <td>600</td>\n",
       "      <td>1</td>\n",
       "      <td>0</td>\n",
       "      <td>0</td>\n",
       "    </tr>\n",
       "    <tr>\n",
       "      <th>148</th>\n",
       "      <td>34</td>\n",
       "      <td>4320</td>\n",
       "      <td>690</td>\n",
       "      <td>1</td>\n",
       "      <td>0</td>\n",
       "      <td>0</td>\n",
       "    </tr>\n",
       "    <tr>\n",
       "      <th>149</th>\n",
       "      <td>30</td>\n",
       "      <td>4080</td>\n",
       "      <td>540</td>\n",
       "      <td>1</td>\n",
       "      <td>0</td>\n",
       "      <td>0</td>\n",
       "    </tr>\n",
       "  </tbody>\n",
       "</table>\n",
       "<p>150 rows × 6 columns</p>\n",
       "</div>"
      ],
      "text/plain": [
       "     Idade  Renda  Impostos  A  B  C\n",
       "0       35   1120        60  0  0  1\n",
       "1       30   1120        60  0  0  1\n",
       "2       32   1040        60  0  0  1\n",
       "3       31   1200        60  0  0  1\n",
       "4       36   1120        60  0  0  1\n",
       "5       39   1360       120  0  0  1\n",
       "6       34   1120        90  0  0  1\n",
       "7       34   1200        60  0  0  1\n",
       "8       29   1120        60  0  0  1\n",
       "9       31   1200        30  0  0  1\n",
       "10      37   1200        60  0  0  1\n",
       "11      34   1280        60  0  0  1\n",
       "12      30   1120        30  0  0  1\n",
       "13      30    880        30  0  0  1\n",
       "14      40    960        60  0  0  1\n",
       "15      44   1200       120  0  0  1\n",
       "16      39   1040       120  0  0  1\n",
       "17      35   1120        90  0  0  1\n",
       "18      38   1360        90  0  0  1\n",
       "19      38   1200        90  0  0  1\n",
       "20      34   1360        60  0  0  1\n",
       "21      37   1200       120  0  0  1\n",
       "22      36    800        60  0  0  1\n",
       "23      33   1360       150  0  0  1\n",
       "24      34   1520        60  0  0  1\n",
       "25      30   1280        60  0  0  1\n",
       "26      34   1280       120  0  0  1\n",
       "27      35   1200        60  0  0  1\n",
       "28      34   1120        60  0  0  1\n",
       "29      32   1280        60  0  0  1\n",
       "..     ...    ...       ... .. .. ..\n",
       "120     32   4560       690  1  0  0\n",
       "121     28   3920       600  1  0  0\n",
       "122     28   5360       600  1  0  0\n",
       "123     27   3920       540  1  0  0\n",
       "124     33   4560       630  1  0  0\n",
       "125     32   4800       540  1  0  0\n",
       "126     28   3840       540  1  0  0\n",
       "127     30   3920       540  1  0  0\n",
       "128     28   4480       630  1  0  0\n",
       "129     30   4640       480  1  0  0\n",
       "130     28   4880       570  1  0  0\n",
       "131     38   5120       600  1  0  0\n",
       "132     28   4480       660  1  0  0\n",
       "133     28   4080       450  1  0  0\n",
       "134     26   4480       420  1  0  0\n",
       "135     30   4880       690  1  0  0\n",
       "136     34   4480       720  1  0  0\n",
       "137     31   4400       540  1  0  0\n",
       "138     30   3840       540  1  0  0\n",
       "139     31   4320       630  1  0  0\n",
       "140     31   4480       720  1  0  0\n",
       "141     31   4080       690  1  0  0\n",
       "142     27   4080       570  1  0  0\n",
       "143     32   4720       690  1  0  0\n",
       "144     33   4560       750  1  0  0\n",
       "145     30   4160       690  1  0  0\n",
       "146     25   4000       570  1  0  0\n",
       "147     30   4160       600  1  0  0\n",
       "148     34   4320       690  1  0  0\n",
       "149     30   4080       540  1  0  0\n",
       "\n",
       "[150 rows x 6 columns]"
      ]
     },
     "metadata": {},
     "output_type": "display_data"
    }
   ],
   "source": [
    "display(X)"
   ]
  },
  {
   "cell_type": "markdown",
   "metadata": {},
   "source": [
    "### Problemas com `pd.get_dummies`\n",
    "Uma vez que o modelo é colocado em produção, a predição será feita uma linha por vez, e a variável categórica será convertida para apenas uma coluna, correspondente ao valor dessa variável categórica para a linha submetida a predição.\n",
    "\n",
    "No exemplo acima, a predição sempre retornaria apenas uma das 3 colunas esperadas (A, B ou C), sendo que seria necessário sempre retornar as 3 colunas para todas as predições.\n",
    "\n",
    "Abaixo, a forma correta de gerar as variáveis dummy:\n",
    "\n",
    "```\n",
    "from sklearn.preprocessing import OneHotEncoder, LabelEncoder\n",
    "\n",
    "le = LabelEncoder()\n",
    "le.fit(gastos.Segmento)\n",
    "SegmentoInt = le.transform(gastos.Segmento)\n",
    "\n",
    "one = OneHotEncoder()\n",
    "one.fit(SegmentoInt.reshape(-1, 1))\n",
    "SegmentoDummies = one.transform(SegmentoInt.reshape(-1, 1))\n",
    "\n",
    "X = pd.concat([gastos[['Idade', 'Renda', 'Impostos']],\n",
    "               pd.DataFrame(SegmentoDummies.toarray())], axis=1)\n",
    "```"
   ]
  },
  {
   "cell_type": "code",
   "execution_count": 10,
   "metadata": {
    "collapsed": true
   },
   "outputs": [],
   "source": [
    "from sklearn.preprocessing import OneHotEncoder, LabelEncoder\n",
    "\n",
    "le = LabelEncoder()\n",
    "le.fit(gastos.Segmento)\n",
    "SegmentoInt = le.transform(gastos.Segmento)\n"
   ]
  },
  {
   "cell_type": "code",
   "execution_count": 11,
   "metadata": {
    "collapsed": false
   },
   "outputs": [
    {
     "data": {
      "text/plain": [
       "array([2, 2, 2, 2, 2, 2, 2, 2, 2, 2, 2, 2, 2, 2, 2, 2, 2, 2, 2, 2, 2, 2,\n",
       "       2, 2, 2, 2, 2, 2, 2, 2, 2, 2, 2, 2, 2, 2, 2, 2, 2, 2, 2, 2, 2, 2,\n",
       "       2, 2, 2, 2, 2, 2, 1, 1, 1, 1, 1, 1, 1, 1, 1, 1, 1, 1, 1, 1, 1, 1,\n",
       "       1, 1, 1, 1, 1, 1, 1, 1, 1, 1, 1, 1, 1, 1, 1, 1, 1, 1, 1, 1, 1, 1,\n",
       "       1, 1, 1, 1, 1, 1, 1, 1, 1, 1, 1, 1, 0, 0, 0, 0, 0, 0, 0, 0, 0, 0,\n",
       "       0, 0, 0, 0, 0, 0, 0, 0, 0, 0, 0, 0, 0, 0, 0, 0, 0, 0, 0, 0, 0, 0,\n",
       "       0, 0, 0, 0, 0, 0, 0, 0, 0, 0, 0, 0, 0, 0, 0, 0, 0, 0])"
      ]
     },
     "execution_count": 11,
     "metadata": {},
     "output_type": "execute_result"
    }
   ],
   "source": [
    "# Verificando o resultado do LabelEncoder\n",
    "SegmentoInt"
   ]
  },
  {
   "cell_type": "code",
   "execution_count": 12,
   "metadata": {
    "collapsed": false
   },
   "outputs": [
    {
     "name": "stderr",
     "output_type": "stream",
     "text": [
      "/home/thiago/.local/lib/python3.6/site-packages/sklearn/preprocessing/_encoders.py:415: FutureWarning: The handling of integer data will change in version 0.22. Currently, the categories are determined based on the range [0, max(values)], while in the future they will be determined based on the unique values.\n",
      "If you want the future behaviour and silence this warning, you can specify \"categories='auto'\".\n",
      "In case you used a LabelEncoder before this OneHotEncoder to convert the categories to integers, then you can now use the OneHotEncoder directly.\n",
      "  warnings.warn(msg, FutureWarning)\n"
     ]
    }
   ],
   "source": [
    "one = OneHotEncoder()\n",
    "one.fit(SegmentoInt.reshape(-1, 1))\n",
    "SegmentoDummies = one.transform(SegmentoInt.reshape(-1, 1))"
   ]
  },
  {
   "cell_type": "code",
   "execution_count": 13,
   "metadata": {
    "collapsed": false,
    "scrolled": true
   },
   "outputs": [
    {
     "data": {
      "text/html": [
       "<div>\n",
       "<style scoped>\n",
       "    .dataframe tbody tr th:only-of-type {\n",
       "        vertical-align: middle;\n",
       "    }\n",
       "\n",
       "    .dataframe tbody tr th {\n",
       "        vertical-align: top;\n",
       "    }\n",
       "\n",
       "    .dataframe thead th {\n",
       "        text-align: right;\n",
       "    }\n",
       "</style>\n",
       "<table border=\"1\" class=\"dataframe\">\n",
       "  <thead>\n",
       "    <tr style=\"text-align: right;\">\n",
       "      <th></th>\n",
       "      <th>0</th>\n",
       "      <th>1</th>\n",
       "      <th>2</th>\n",
       "    </tr>\n",
       "  </thead>\n",
       "  <tbody>\n",
       "    <tr>\n",
       "      <th>0</th>\n",
       "      <td>0.0</td>\n",
       "      <td>0.0</td>\n",
       "      <td>1.0</td>\n",
       "    </tr>\n",
       "    <tr>\n",
       "      <th>1</th>\n",
       "      <td>0.0</td>\n",
       "      <td>0.0</td>\n",
       "      <td>1.0</td>\n",
       "    </tr>\n",
       "    <tr>\n",
       "      <th>2</th>\n",
       "      <td>0.0</td>\n",
       "      <td>0.0</td>\n",
       "      <td>1.0</td>\n",
       "    </tr>\n",
       "    <tr>\n",
       "      <th>3</th>\n",
       "      <td>0.0</td>\n",
       "      <td>0.0</td>\n",
       "      <td>1.0</td>\n",
       "    </tr>\n",
       "    <tr>\n",
       "      <th>4</th>\n",
       "      <td>0.0</td>\n",
       "      <td>0.0</td>\n",
       "      <td>1.0</td>\n",
       "    </tr>\n",
       "    <tr>\n",
       "      <th>5</th>\n",
       "      <td>0.0</td>\n",
       "      <td>0.0</td>\n",
       "      <td>1.0</td>\n",
       "    </tr>\n",
       "    <tr>\n",
       "      <th>6</th>\n",
       "      <td>0.0</td>\n",
       "      <td>0.0</td>\n",
       "      <td>1.0</td>\n",
       "    </tr>\n",
       "    <tr>\n",
       "      <th>7</th>\n",
       "      <td>0.0</td>\n",
       "      <td>0.0</td>\n",
       "      <td>1.0</td>\n",
       "    </tr>\n",
       "    <tr>\n",
       "      <th>8</th>\n",
       "      <td>0.0</td>\n",
       "      <td>0.0</td>\n",
       "      <td>1.0</td>\n",
       "    </tr>\n",
       "    <tr>\n",
       "      <th>9</th>\n",
       "      <td>0.0</td>\n",
       "      <td>0.0</td>\n",
       "      <td>1.0</td>\n",
       "    </tr>\n",
       "    <tr>\n",
       "      <th>10</th>\n",
       "      <td>0.0</td>\n",
       "      <td>0.0</td>\n",
       "      <td>1.0</td>\n",
       "    </tr>\n",
       "    <tr>\n",
       "      <th>11</th>\n",
       "      <td>0.0</td>\n",
       "      <td>0.0</td>\n",
       "      <td>1.0</td>\n",
       "    </tr>\n",
       "    <tr>\n",
       "      <th>12</th>\n",
       "      <td>0.0</td>\n",
       "      <td>0.0</td>\n",
       "      <td>1.0</td>\n",
       "    </tr>\n",
       "    <tr>\n",
       "      <th>13</th>\n",
       "      <td>0.0</td>\n",
       "      <td>0.0</td>\n",
       "      <td>1.0</td>\n",
       "    </tr>\n",
       "    <tr>\n",
       "      <th>14</th>\n",
       "      <td>0.0</td>\n",
       "      <td>0.0</td>\n",
       "      <td>1.0</td>\n",
       "    </tr>\n",
       "    <tr>\n",
       "      <th>15</th>\n",
       "      <td>0.0</td>\n",
       "      <td>0.0</td>\n",
       "      <td>1.0</td>\n",
       "    </tr>\n",
       "    <tr>\n",
       "      <th>16</th>\n",
       "      <td>0.0</td>\n",
       "      <td>0.0</td>\n",
       "      <td>1.0</td>\n",
       "    </tr>\n",
       "    <tr>\n",
       "      <th>17</th>\n",
       "      <td>0.0</td>\n",
       "      <td>0.0</td>\n",
       "      <td>1.0</td>\n",
       "    </tr>\n",
       "    <tr>\n",
       "      <th>18</th>\n",
       "      <td>0.0</td>\n",
       "      <td>0.0</td>\n",
       "      <td>1.0</td>\n",
       "    </tr>\n",
       "    <tr>\n",
       "      <th>19</th>\n",
       "      <td>0.0</td>\n",
       "      <td>0.0</td>\n",
       "      <td>1.0</td>\n",
       "    </tr>\n",
       "    <tr>\n",
       "      <th>20</th>\n",
       "      <td>0.0</td>\n",
       "      <td>0.0</td>\n",
       "      <td>1.0</td>\n",
       "    </tr>\n",
       "    <tr>\n",
       "      <th>21</th>\n",
       "      <td>0.0</td>\n",
       "      <td>0.0</td>\n",
       "      <td>1.0</td>\n",
       "    </tr>\n",
       "    <tr>\n",
       "      <th>22</th>\n",
       "      <td>0.0</td>\n",
       "      <td>0.0</td>\n",
       "      <td>1.0</td>\n",
       "    </tr>\n",
       "    <tr>\n",
       "      <th>23</th>\n",
       "      <td>0.0</td>\n",
       "      <td>0.0</td>\n",
       "      <td>1.0</td>\n",
       "    </tr>\n",
       "    <tr>\n",
       "      <th>24</th>\n",
       "      <td>0.0</td>\n",
       "      <td>0.0</td>\n",
       "      <td>1.0</td>\n",
       "    </tr>\n",
       "    <tr>\n",
       "      <th>25</th>\n",
       "      <td>0.0</td>\n",
       "      <td>0.0</td>\n",
       "      <td>1.0</td>\n",
       "    </tr>\n",
       "    <tr>\n",
       "      <th>26</th>\n",
       "      <td>0.0</td>\n",
       "      <td>0.0</td>\n",
       "      <td>1.0</td>\n",
       "    </tr>\n",
       "    <tr>\n",
       "      <th>27</th>\n",
       "      <td>0.0</td>\n",
       "      <td>0.0</td>\n",
       "      <td>1.0</td>\n",
       "    </tr>\n",
       "    <tr>\n",
       "      <th>28</th>\n",
       "      <td>0.0</td>\n",
       "      <td>0.0</td>\n",
       "      <td>1.0</td>\n",
       "    </tr>\n",
       "    <tr>\n",
       "      <th>29</th>\n",
       "      <td>0.0</td>\n",
       "      <td>0.0</td>\n",
       "      <td>1.0</td>\n",
       "    </tr>\n",
       "    <tr>\n",
       "      <th>...</th>\n",
       "      <td>...</td>\n",
       "      <td>...</td>\n",
       "      <td>...</td>\n",
       "    </tr>\n",
       "    <tr>\n",
       "      <th>120</th>\n",
       "      <td>1.0</td>\n",
       "      <td>0.0</td>\n",
       "      <td>0.0</td>\n",
       "    </tr>\n",
       "    <tr>\n",
       "      <th>121</th>\n",
       "      <td>1.0</td>\n",
       "      <td>0.0</td>\n",
       "      <td>0.0</td>\n",
       "    </tr>\n",
       "    <tr>\n",
       "      <th>122</th>\n",
       "      <td>1.0</td>\n",
       "      <td>0.0</td>\n",
       "      <td>0.0</td>\n",
       "    </tr>\n",
       "    <tr>\n",
       "      <th>123</th>\n",
       "      <td>1.0</td>\n",
       "      <td>0.0</td>\n",
       "      <td>0.0</td>\n",
       "    </tr>\n",
       "    <tr>\n",
       "      <th>124</th>\n",
       "      <td>1.0</td>\n",
       "      <td>0.0</td>\n",
       "      <td>0.0</td>\n",
       "    </tr>\n",
       "    <tr>\n",
       "      <th>125</th>\n",
       "      <td>1.0</td>\n",
       "      <td>0.0</td>\n",
       "      <td>0.0</td>\n",
       "    </tr>\n",
       "    <tr>\n",
       "      <th>126</th>\n",
       "      <td>1.0</td>\n",
       "      <td>0.0</td>\n",
       "      <td>0.0</td>\n",
       "    </tr>\n",
       "    <tr>\n",
       "      <th>127</th>\n",
       "      <td>1.0</td>\n",
       "      <td>0.0</td>\n",
       "      <td>0.0</td>\n",
       "    </tr>\n",
       "    <tr>\n",
       "      <th>128</th>\n",
       "      <td>1.0</td>\n",
       "      <td>0.0</td>\n",
       "      <td>0.0</td>\n",
       "    </tr>\n",
       "    <tr>\n",
       "      <th>129</th>\n",
       "      <td>1.0</td>\n",
       "      <td>0.0</td>\n",
       "      <td>0.0</td>\n",
       "    </tr>\n",
       "    <tr>\n",
       "      <th>130</th>\n",
       "      <td>1.0</td>\n",
       "      <td>0.0</td>\n",
       "      <td>0.0</td>\n",
       "    </tr>\n",
       "    <tr>\n",
       "      <th>131</th>\n",
       "      <td>1.0</td>\n",
       "      <td>0.0</td>\n",
       "      <td>0.0</td>\n",
       "    </tr>\n",
       "    <tr>\n",
       "      <th>132</th>\n",
       "      <td>1.0</td>\n",
       "      <td>0.0</td>\n",
       "      <td>0.0</td>\n",
       "    </tr>\n",
       "    <tr>\n",
       "      <th>133</th>\n",
       "      <td>1.0</td>\n",
       "      <td>0.0</td>\n",
       "      <td>0.0</td>\n",
       "    </tr>\n",
       "    <tr>\n",
       "      <th>134</th>\n",
       "      <td>1.0</td>\n",
       "      <td>0.0</td>\n",
       "      <td>0.0</td>\n",
       "    </tr>\n",
       "    <tr>\n",
       "      <th>135</th>\n",
       "      <td>1.0</td>\n",
       "      <td>0.0</td>\n",
       "      <td>0.0</td>\n",
       "    </tr>\n",
       "    <tr>\n",
       "      <th>136</th>\n",
       "      <td>1.0</td>\n",
       "      <td>0.0</td>\n",
       "      <td>0.0</td>\n",
       "    </tr>\n",
       "    <tr>\n",
       "      <th>137</th>\n",
       "      <td>1.0</td>\n",
       "      <td>0.0</td>\n",
       "      <td>0.0</td>\n",
       "    </tr>\n",
       "    <tr>\n",
       "      <th>138</th>\n",
       "      <td>1.0</td>\n",
       "      <td>0.0</td>\n",
       "      <td>0.0</td>\n",
       "    </tr>\n",
       "    <tr>\n",
       "      <th>139</th>\n",
       "      <td>1.0</td>\n",
       "      <td>0.0</td>\n",
       "      <td>0.0</td>\n",
       "    </tr>\n",
       "    <tr>\n",
       "      <th>140</th>\n",
       "      <td>1.0</td>\n",
       "      <td>0.0</td>\n",
       "      <td>0.0</td>\n",
       "    </tr>\n",
       "    <tr>\n",
       "      <th>141</th>\n",
       "      <td>1.0</td>\n",
       "      <td>0.0</td>\n",
       "      <td>0.0</td>\n",
       "    </tr>\n",
       "    <tr>\n",
       "      <th>142</th>\n",
       "      <td>1.0</td>\n",
       "      <td>0.0</td>\n",
       "      <td>0.0</td>\n",
       "    </tr>\n",
       "    <tr>\n",
       "      <th>143</th>\n",
       "      <td>1.0</td>\n",
       "      <td>0.0</td>\n",
       "      <td>0.0</td>\n",
       "    </tr>\n",
       "    <tr>\n",
       "      <th>144</th>\n",
       "      <td>1.0</td>\n",
       "      <td>0.0</td>\n",
       "      <td>0.0</td>\n",
       "    </tr>\n",
       "    <tr>\n",
       "      <th>145</th>\n",
       "      <td>1.0</td>\n",
       "      <td>0.0</td>\n",
       "      <td>0.0</td>\n",
       "    </tr>\n",
       "    <tr>\n",
       "      <th>146</th>\n",
       "      <td>1.0</td>\n",
       "      <td>0.0</td>\n",
       "      <td>0.0</td>\n",
       "    </tr>\n",
       "    <tr>\n",
       "      <th>147</th>\n",
       "      <td>1.0</td>\n",
       "      <td>0.0</td>\n",
       "      <td>0.0</td>\n",
       "    </tr>\n",
       "    <tr>\n",
       "      <th>148</th>\n",
       "      <td>1.0</td>\n",
       "      <td>0.0</td>\n",
       "      <td>0.0</td>\n",
       "    </tr>\n",
       "    <tr>\n",
       "      <th>149</th>\n",
       "      <td>1.0</td>\n",
       "      <td>0.0</td>\n",
       "      <td>0.0</td>\n",
       "    </tr>\n",
       "  </tbody>\n",
       "</table>\n",
       "<p>150 rows × 3 columns</p>\n",
       "</div>"
      ],
      "text/plain": [
       "       0    1    2\n",
       "0    0.0  0.0  1.0\n",
       "1    0.0  0.0  1.0\n",
       "2    0.0  0.0  1.0\n",
       "3    0.0  0.0  1.0\n",
       "4    0.0  0.0  1.0\n",
       "5    0.0  0.0  1.0\n",
       "6    0.0  0.0  1.0\n",
       "7    0.0  0.0  1.0\n",
       "8    0.0  0.0  1.0\n",
       "9    0.0  0.0  1.0\n",
       "10   0.0  0.0  1.0\n",
       "11   0.0  0.0  1.0\n",
       "12   0.0  0.0  1.0\n",
       "13   0.0  0.0  1.0\n",
       "14   0.0  0.0  1.0\n",
       "15   0.0  0.0  1.0\n",
       "16   0.0  0.0  1.0\n",
       "17   0.0  0.0  1.0\n",
       "18   0.0  0.0  1.0\n",
       "19   0.0  0.0  1.0\n",
       "20   0.0  0.0  1.0\n",
       "21   0.0  0.0  1.0\n",
       "22   0.0  0.0  1.0\n",
       "23   0.0  0.0  1.0\n",
       "24   0.0  0.0  1.0\n",
       "25   0.0  0.0  1.0\n",
       "26   0.0  0.0  1.0\n",
       "27   0.0  0.0  1.0\n",
       "28   0.0  0.0  1.0\n",
       "29   0.0  0.0  1.0\n",
       "..   ...  ...  ...\n",
       "120  1.0  0.0  0.0\n",
       "121  1.0  0.0  0.0\n",
       "122  1.0  0.0  0.0\n",
       "123  1.0  0.0  0.0\n",
       "124  1.0  0.0  0.0\n",
       "125  1.0  0.0  0.0\n",
       "126  1.0  0.0  0.0\n",
       "127  1.0  0.0  0.0\n",
       "128  1.0  0.0  0.0\n",
       "129  1.0  0.0  0.0\n",
       "130  1.0  0.0  0.0\n",
       "131  1.0  0.0  0.0\n",
       "132  1.0  0.0  0.0\n",
       "133  1.0  0.0  0.0\n",
       "134  1.0  0.0  0.0\n",
       "135  1.0  0.0  0.0\n",
       "136  1.0  0.0  0.0\n",
       "137  1.0  0.0  0.0\n",
       "138  1.0  0.0  0.0\n",
       "139  1.0  0.0  0.0\n",
       "140  1.0  0.0  0.0\n",
       "141  1.0  0.0  0.0\n",
       "142  1.0  0.0  0.0\n",
       "143  1.0  0.0  0.0\n",
       "144  1.0  0.0  0.0\n",
       "145  1.0  0.0  0.0\n",
       "146  1.0  0.0  0.0\n",
       "147  1.0  0.0  0.0\n",
       "148  1.0  0.0  0.0\n",
       "149  1.0  0.0  0.0\n",
       "\n",
       "[150 rows x 3 columns]"
      ]
     },
     "execution_count": 13,
     "metadata": {},
     "output_type": "execute_result"
    }
   ],
   "source": [
    "# Verificando o resultado do OneHotEncoder\n",
    "pd.DataFrame(SegmentoDummies.toarray())"
   ]
  },
  {
   "cell_type": "code",
   "execution_count": 14,
   "metadata": {
    "collapsed": true
   },
   "outputs": [],
   "source": [
    "X = pd.concat([gastos[['Idade', 'Renda', 'Impostos']],\n",
    "               pd.DataFrame(SegmentoDummies.toarray())], axis=1)"
   ]
  },
  {
   "cell_type": "code",
   "execution_count": 17,
   "metadata": {
    "collapsed": true
   },
   "outputs": [],
   "source": [
    "y = gastos.Gastos_Cartao\n",
    "X_train, X_test, y_train, y_test = train_test_split(X, y, test_size=0.3, random_state=42)"
   ]
  },
  {
   "cell_type": "code",
   "execution_count": 19,
   "metadata": {
    "collapsed": false
   },
   "outputs": [
    {
     "name": "stdout",
     "output_type": "stream",
     "text": [
      "(105, 6)\n",
      "(45, 6)\n"
     ]
    }
   ],
   "source": [
    "print(X_train.shape)\n",
    "print(X_test.shape)"
   ]
  },
  {
   "cell_type": "markdown",
   "metadata": {},
   "source": [
    "## Linear Regression"
   ]
  },
  {
   "cell_type": "code",
   "execution_count": 20,
   "metadata": {
    "collapsed": true
   },
   "outputs": [],
   "source": [
    "from sklearn.linear_model import LinearRegression"
   ]
  },
  {
   "cell_type": "code",
   "execution_count": 21,
   "metadata": {
    "collapsed": true
   },
   "outputs": [],
   "source": [
    "lr = LinearRegression()"
   ]
  },
  {
   "cell_type": "code",
   "execution_count": 22,
   "metadata": {
    "collapsed": false
   },
   "outputs": [
    {
     "data": {
      "text/plain": [
       "LinearRegression(copy_X=True, fit_intercept=True, n_jobs=1, normalize=False)"
      ]
     },
     "execution_count": 22,
     "metadata": {},
     "output_type": "execute_result"
    }
   ],
   "source": [
    "lr.fit(X_train, y_train)"
   ]
  },
  {
   "cell_type": "code",
   "execution_count": 23,
   "metadata": {
    "collapsed": true
   },
   "outputs": [],
   "source": [
    "predictions = lr.predict(X_test)"
   ]
  },
  {
   "cell_type": "code",
   "execution_count": 24,
   "metadata": {
    "collapsed": false
   },
   "outputs": [
    {
     "name": "stdout",
     "output_type": "stream",
     "text": [
      "MSE: 923.5416\n"
     ]
    }
   ],
   "source": [
    "from sklearn.metrics import mean_squared_error\n",
    "mse = mean_squared_error(y_test, predictions)\n",
    "print(\"MSE: %.4f\" % mse)"
   ]
  },
  {
   "cell_type": "code",
   "execution_count": 25,
   "metadata": {
    "collapsed": false
   },
   "outputs": [
    {
     "name": "stdout",
     "output_type": "stream",
     "text": [
      "R2: 0.8612\n"
     ]
    }
   ],
   "source": [
    "from sklearn.metrics import r2_score\n",
    "r2 = r2_score(y_test, predictions)\n",
    "print(\"R2: %.4f\" % r2)"
   ]
  },
  {
   "cell_type": "markdown",
   "metadata": {},
   "source": [
    "## Ridge Regression"
   ]
  },
  {
   "cell_type": "code",
   "execution_count": 26,
   "metadata": {
    "collapsed": true
   },
   "outputs": [],
   "source": [
    "from sklearn.linear_model import Ridge"
   ]
  },
  {
   "cell_type": "code",
   "execution_count": 27,
   "metadata": {
    "collapsed": true
   },
   "outputs": [],
   "source": [
    "ri = Ridge(alpha=10)"
   ]
  },
  {
   "cell_type": "code",
   "execution_count": 28,
   "metadata": {
    "collapsed": false
   },
   "outputs": [
    {
     "data": {
      "text/plain": [
       "Ridge(alpha=10, copy_X=True, fit_intercept=True, max_iter=None,\n",
       "   normalize=False, random_state=None, solver='auto', tol=0.001)"
      ]
     },
     "execution_count": 28,
     "metadata": {},
     "output_type": "execute_result"
    }
   ],
   "source": [
    "ri.fit(X_train, y_train)"
   ]
  },
  {
   "cell_type": "code",
   "execution_count": 29,
   "metadata": {
    "collapsed": false
   },
   "outputs": [
    {
     "name": "stdout",
     "output_type": "stream",
     "text": [
      "MSE: 969.0087\n",
      "R2: 0.8544\n"
     ]
    }
   ],
   "source": [
    "predictions = ri.predict(X_test)\n",
    "mse = mean_squared_error(y_test, predictions)\n",
    "print(\"MSE: %.4f\" % mse)\n",
    "r2 = r2_score(y_test, predictions)\n",
    "print(\"R2: %.4f\" % r2)"
   ]
  },
  {
   "cell_type": "markdown",
   "metadata": {},
   "source": [
    "Para testar vários alphas, usamos a biblioteca GridSearchCV"
   ]
  },
  {
   "cell_type": "code",
   "execution_count": 30,
   "metadata": {
    "collapsed": true
   },
   "outputs": [],
   "source": [
    "from sklearn.model_selection import GridSearchCV"
   ]
  },
  {
   "cell_type": "code",
   "execution_count": 31,
   "metadata": {
    "collapsed": true
   },
   "outputs": [],
   "source": [
    "tuned_parameters = [{'alpha': [0,0.01,0.1,0.5,1,10,100]}]"
   ]
  },
  {
   "cell_type": "code",
   "execution_count": 44,
   "metadata": {
    "collapsed": false
   },
   "outputs": [
    {
     "name": "stderr",
     "output_type": "stream",
     "text": [
      "c:\\users\\big data t8\\appdata\\local\\programs\\python\\python36\\lib\\site-packages\\scipy\\linalg\\basic.py:223: RuntimeWarning: scipy.linalg.solve\n",
      "Ill-conditioned matrix detected. Result is not guaranteed to be accurate.\n",
      "Reciprocal condition number: 5.824728900225692e-18\n",
      "  ' condition number: {}'.format(rcond), RuntimeWarning)\n",
      "c:\\users\\big data t8\\appdata\\local\\programs\\python\\python36\\lib\\site-packages\\scipy\\linalg\\basic.py:223: RuntimeWarning: scipy.linalg.solve\n",
      "Ill-conditioned matrix detected. Result is not guaranteed to be accurate.\n",
      "Reciprocal condition number: 1.6426987742002527e-17\n",
      "  ' condition number: {}'.format(rcond), RuntimeWarning)\n",
      "c:\\users\\big data t8\\appdata\\local\\programs\\python\\python36\\lib\\site-packages\\scipy\\linalg\\basic.py:223: RuntimeWarning: scipy.linalg.solve\n",
      "Ill-conditioned matrix detected. Result is not guaranteed to be accurate.\n",
      "Reciprocal condition number: 9.233153927745495e-18\n",
      "  ' condition number: {}'.format(rcond), RuntimeWarning)\n",
      "c:\\users\\big data t8\\appdata\\local\\programs\\python\\python36\\lib\\site-packages\\scipy\\linalg\\basic.py:223: RuntimeWarning: scipy.linalg.solve\n",
      "Ill-conditioned matrix detected. Result is not guaranteed to be accurate.\n",
      "Reciprocal condition number: 5.361082005701311e-19\n",
      "  ' condition number: {}'.format(rcond), RuntimeWarning)\n"
     ]
    },
    {
     "data": {
      "text/plain": [
       "GridSearchCV(cv=4, error_score='raise',\n",
       "       estimator=Ridge(alpha=1.0, copy_X=True, fit_intercept=True, max_iter=None,\n",
       "   normalize=False, random_state=42, solver='auto', tol=0.001),\n",
       "       fit_params=None, iid=True, n_jobs=1,\n",
       "       param_grid=[{'alpha': [0, 0.01, 0.1, 0.5, 1, 10, 100]}],\n",
       "       pre_dispatch='2*n_jobs', refit=True, return_train_score='warn',\n",
       "       scoring='r2', verbose=0)"
      ]
     },
     "execution_count": 44,
     "metadata": {},
     "output_type": "execute_result"
    }
   ],
   "source": [
    "clf = GridSearchCV(Ridge(random_state = 42), tuned_parameters, cv=4, scoring='r2')\n",
    "clf.fit(X_train, y_train)"
   ]
  },
  {
   "cell_type": "markdown",
   "metadata": {},
   "source": [
    "Um resumo dos resultados:"
   ]
  },
  {
   "cell_type": "code",
   "execution_count": 45,
   "metadata": {
    "collapsed": false
   },
   "outputs": [
    {
     "name": "stdout",
     "output_type": "stream",
     "text": [
      "Best parameters set found on development set:\n",
      "\n",
      "{'alpha': 0.5}\n",
      "\n",
      "Grid scores on development set:\n",
      "\n",
      "0.841 (+/-0.090) for {'alpha': 0}\n",
      "0.841 (+/-0.090) for {'alpha': 0.01}\n",
      "0.842 (+/-0.091) for {'alpha': 0.1}\n",
      "0.842 (+/-0.093) for {'alpha': 0.5}\n",
      "0.842 (+/-0.094) for {'alpha': 1}\n",
      "0.839 (+/-0.098) for {'alpha': 10}\n",
      "0.840 (+/-0.103) for {'alpha': 100}\n",
      "\n",
      "Detailed classification report:\n",
      "\n",
      "The model is trained on the full development set.\n",
      "The scores are computed on the full evaluation set.\n",
      "\n",
      "MSE: 927.5116\n",
      "\n"
     ]
    }
   ],
   "source": [
    "print(\"Best parameters set found on development set:\")\n",
    "print()\n",
    "print(clf.best_params_)\n",
    "print()\n",
    "print(\"Grid scores on development set:\")\n",
    "print()\n",
    "means = clf.cv_results_['mean_test_score']\n",
    "stds = clf.cv_results_['std_test_score']\n",
    "for mean, std, params in zip(means, stds, clf.cv_results_['params']):\n",
    "    print(\"%0.3f (+/-%0.03f) for %r\"\n",
    "        % (mean, std * 2, params))\n",
    "print()\n",
    "\n",
    "print(\"Detailed classification report:\")\n",
    "print()\n",
    "print(\"The model is trained on the full development set.\")\n",
    "print(\"The scores are computed on the full evaluation set.\")\n",
    "print()\n",
    "mse = mean_squared_error(y_test, clf.predict(X_test))\n",
    "print(\"MSE: %.4f\" % mse)\n",
    "print()"
   ]
  },
  {
   "cell_type": "markdown",
   "metadata": {},
   "source": [
    "A variável `clf.cv_results_` possui todos os resultados da Cross Validation (CV)"
   ]
  },
  {
   "cell_type": "code",
   "execution_count": 46,
   "metadata": {
    "collapsed": false
   },
   "outputs": [
    {
     "name": "stderr",
     "output_type": "stream",
     "text": [
      "c:\\users\\big data t8\\appdata\\local\\programs\\python\\python36\\lib\\site-packages\\sklearn\\utils\\deprecation.py:122: FutureWarning: You are accessing a training score ('split0_train_score'), which will not be available by default any more in 0.21. If you need training scores, please set return_train_score=True\n",
      "  warnings.warn(*warn_args, **warn_kwargs)\n",
      "c:\\users\\big data t8\\appdata\\local\\programs\\python\\python36\\lib\\site-packages\\sklearn\\utils\\deprecation.py:122: FutureWarning: You are accessing a training score ('split1_train_score'), which will not be available by default any more in 0.21. If you need training scores, please set return_train_score=True\n",
      "  warnings.warn(*warn_args, **warn_kwargs)\n",
      "c:\\users\\big data t8\\appdata\\local\\programs\\python\\python36\\lib\\site-packages\\sklearn\\utils\\deprecation.py:122: FutureWarning: You are accessing a training score ('split2_train_score'), which will not be available by default any more in 0.21. If you need training scores, please set return_train_score=True\n",
      "  warnings.warn(*warn_args, **warn_kwargs)\n",
      "c:\\users\\big data t8\\appdata\\local\\programs\\python\\python36\\lib\\site-packages\\sklearn\\utils\\deprecation.py:122: FutureWarning: You are accessing a training score ('split3_train_score'), which will not be available by default any more in 0.21. If you need training scores, please set return_train_score=True\n",
      "  warnings.warn(*warn_args, **warn_kwargs)\n",
      "c:\\users\\big data t8\\appdata\\local\\programs\\python\\python36\\lib\\site-packages\\sklearn\\utils\\deprecation.py:122: FutureWarning: You are accessing a training score ('mean_train_score'), which will not be available by default any more in 0.21. If you need training scores, please set return_train_score=True\n",
      "  warnings.warn(*warn_args, **warn_kwargs)\n",
      "c:\\users\\big data t8\\appdata\\local\\programs\\python\\python36\\lib\\site-packages\\sklearn\\utils\\deprecation.py:122: FutureWarning: You are accessing a training score ('std_train_score'), which will not be available by default any more in 0.21. If you need training scores, please set return_train_score=True\n",
      "  warnings.warn(*warn_args, **warn_kwargs)\n"
     ]
    },
    {
     "data": {
      "text/plain": [
       "{'mean_fit_time': array([ 0.00224406,  0.00149596,  0.00149602,  0.00174493,  0.00199449,\n",
       "         0.00174493,  0.00099713]),\n",
       " 'std_fit_time': array([  8.26742033e-04,   4.98891019e-04,   4.98593117e-04,\n",
       "          4.31777014e-04,   4.29815206e-07,   4.31776882e-04,\n",
       "          2.59810623e-07]),\n",
       " 'mean_score_time': array([ 0.0007481 ,  0.00049877,  0.00024927,  0.00049955,  0.00024945,\n",
       "         0.        ,  0.00074768]),\n",
       " 'std_score_time': array([ 0.00043191,  0.00049877,  0.00043174,  0.00049955,  0.00043205,\n",
       "         0.        ,  0.00043168]),\n",
       " 'param_alpha': masked_array(data = [0 0.01 0.1 0.5 1 10 100],\n",
       "              mask = [False False False False False False False],\n",
       "        fill_value = ?),\n",
       " 'params': [{'alpha': 0},\n",
       "  {'alpha': 0.01},\n",
       "  {'alpha': 0.1},\n",
       "  {'alpha': 0.5},\n",
       "  {'alpha': 1},\n",
       "  {'alpha': 10},\n",
       "  {'alpha': 100}],\n",
       " 'split0_test_score': array([ 0.90713446,  0.90712795,  0.90699153,  0.90583285,  0.90454318,\n",
       "         0.90125202,  0.90311382]),\n",
       " 'split1_test_score': array([ 0.79910285,  0.79926159,  0.80035871,  0.8018034 ,  0.80152876,\n",
       "         0.7979407 ,  0.79636997]),\n",
       " 'split2_test_score': array([ 0.85592864,  0.85628647,  0.85900681,  0.86516685,  0.86793781,\n",
       "         0.87117731,  0.87434698]),\n",
       " 'split3_test_score': array([ 0.80057665,  0.80039189,  0.79887469,  0.79430973,  0.79120852,\n",
       "         0.78516678,  0.78177861]),\n",
       " 'mean_test_score': array([ 0.8413185 ,  0.84139899,  0.84193349,  0.84238825,  0.84190684,\n",
       "         0.83947818,  0.83951388]),\n",
       " 'std_test_score': array([ 0.04493386,  0.0449652 ,  0.04525098,  0.04630097,  0.04708308,\n",
       "         0.04886427,  0.05125329]),\n",
       " 'rank_test_score': array([5, 4, 2, 1, 3, 7, 6]),\n",
       " 'split0_train_score': array([ 0.84800375,  0.84800249,  0.84790143,  0.84676555,  0.84540381,\n",
       "         0.84060158,  0.83831882]),\n",
       " 'split1_train_score': array([ 0.87943881,  0.87943732,  0.87931858,  0.87800365,  0.87645152,\n",
       "         0.87117158,  0.86935172]),\n",
       " 'split2_train_score': array([ 0.86756284,  0.86756081,  0.86739661,  0.86551442,  0.86321258,\n",
       "         0.85498896,  0.85238359]),\n",
       " 'split3_train_score': array([ 0.87524225,  0.87524186,  0.87520981,  0.87483498,  0.87436626,\n",
       "         0.87252399,  0.87099033]),\n",
       " 'mean_train_score': array([ 0.86756191,  0.86756062,  0.8674566 ,  0.86627965,  0.86485854,\n",
       "         0.85982153,  0.85776112]),\n",
       " 'std_train_score': array([ 0.01206824,  0.01206832,  0.01207505,  0.01216585,  0.01230843,\n",
       "         0.01306653,  0.01338166])}"
      ]
     },
     "execution_count": 46,
     "metadata": {},
     "output_type": "execute_result"
    }
   ],
   "source": [
    "clf.cv_results_"
   ]
  },
  {
   "cell_type": "markdown",
   "metadata": {},
   "source": [
    "Para gerar a curva de aprendizado:"
   ]
  },
  {
   "cell_type": "code",
   "execution_count": 61,
   "metadata": {
    "collapsed": true
   },
   "outputs": [],
   "source": [
    "r2s = []\n",
    "for n in range(50, X_train.shape[0] + 5, 5):\n",
    "    reg = Ridge(alpha = clf.best_params_['alpha'])\n",
    "    reg.fit(X_train.iloc[0:n], y_train[0:n])\n",
    "    pred = reg.predict(X_test)\n",
    "    r2s.append(r2_score(y_test, pred))"
   ]
  },
  {
   "cell_type": "code",
   "execution_count": 62,
   "metadata": {
    "collapsed": false
   },
   "outputs": [
    {
     "data": {
      "text/plain": [
       "Text(0.5,1,'Learning Curve')"
      ]
     },
     "execution_count": 62,
     "metadata": {},
     "output_type": "execute_result"
    },
    {
     "data": {
      "image/png": "[encoded data removed]",
      "text/plain": [
       "<Figure size 432x288 with 1 Axes>"
      ]
     },
     "metadata": {},
     "output_type": "display_data"
    }
   ],
   "source": [
    "plt.plot(range(50, X_train.shape[0] + 5, 5), r2s)\n",
    "plt.title(\"Learning Curve\")"
   ]
  },
  {
   "cell_type": "markdown",
   "metadata": {},
   "source": [
    "## TREE"
   ]
  },
  {
   "cell_type": "code",
   "execution_count": 63,
   "metadata": {
    "collapsed": true
   },
   "outputs": [],
   "source": [
    "from sklearn.tree import DecisionTreeRegressor"
   ]
  },
  {
   "cell_type": "code",
   "execution_count": 64,
   "metadata": {
    "collapsed": true
   },
   "outputs": [],
   "source": [
    "dt = DecisionTreeRegressor(max_depth=3, min_samples_split=5)"
   ]
  },
  {
   "cell_type": "code",
   "execution_count": 65,
   "metadata": {
    "collapsed": false
   },
   "outputs": [
    {
     "data": {
      "text/plain": [
       "DecisionTreeRegressor(criterion='mse', max_depth=3, max_features=None,\n",
       "           max_leaf_nodes=None, min_impurity_decrease=0.0,\n",
       "           min_impurity_split=None, min_samples_leaf=1,\n",
       "           min_samples_split=5, min_weight_fraction_leaf=0.0,\n",
       "           presort=False, random_state=None, splitter='best')"
      ]
     },
     "execution_count": 65,
     "metadata": {},
     "output_type": "execute_result"
    }
   ],
   "source": [
    "dt.fit(X_train, y_train)"
   ]
  },
  {
   "cell_type": "code",
   "execution_count": 66,
   "metadata": {
    "collapsed": false
   },
   "outputs": [
    {
     "name": "stdout",
     "output_type": "stream",
     "text": [
      "MSE: 1316.5579\n",
      "R2: 0.8022\n"
     ]
    }
   ],
   "source": [
    "predictions = dt.predict(X_test)\n",
    "mse = mean_squared_error(y_test, predictions)\n",
    "print(\"MSE: %.4f\" % mse)\n",
    "r2 = r2_score(y_test, predictions)\n",
    "print(\"R2: %.4f\" % r2)"
   ]
  },
  {
   "cell_type": "code",
   "execution_count": 67,
   "metadata": {
    "collapsed": true
   },
   "outputs": [],
   "source": [
    "tuned_parameters = [{'max_depth': [1,2,3,4,5],\n",
    "                     'min_samples_split': [2,3,5]}]"
   ]
  },
  {
   "cell_type": "code",
   "execution_count": 68,
   "metadata": {
    "collapsed": false
   },
   "outputs": [
    {
     "data": {
      "text/plain": [
       "GridSearchCV(cv=3, error_score='raise',\n",
       "       estimator=DecisionTreeRegressor(criterion='mse', max_depth=None, max_features=None,\n",
       "           max_leaf_nodes=None, min_impurity_decrease=0.0,\n",
       "           min_impurity_split=None, min_samples_leaf=1,\n",
       "           min_samples_split=2, min_weight_fraction_leaf=0.0,\n",
       "           presort=False, random_state=None, splitter='best'),\n",
       "       fit_params=None, iid=True, n_jobs=1,\n",
       "       param_grid=[{'max_depth': [1, 2, 3, 4, 5], 'min_samples_split': [2, 3, 5]}],\n",
       "       pre_dispatch='2*n_jobs', refit=True, return_train_score='warn',\n",
       "       scoring='r2', verbose=0)"
      ]
     },
     "execution_count": 68,
     "metadata": {},
     "output_type": "execute_result"
    }
   ],
   "source": [
    "clf = GridSearchCV(DecisionTreeRegressor(), tuned_parameters, cv=3, scoring='r2')\n",
    "clf.fit(X_train, y_train)"
   ]
  },
  {
   "cell_type": "code",
   "execution_count": 69,
   "metadata": {
    "collapsed": false
   },
   "outputs": [
    {
     "name": "stdout",
     "output_type": "stream",
     "text": [
      "Best parameters set found on development set:\n",
      "\n",
      "{'max_depth': 5, 'min_samples_split': 5}\n",
      "\n",
      "Grid scores on development set:\n",
      "\n",
      "0.415 (+/-0.104) for {'max_depth': 1, 'min_samples_split': 2}\n",
      "0.415 (+/-0.104) for {'max_depth': 1, 'min_samples_split': 3}\n",
      "0.415 (+/-0.104) for {'max_depth': 1, 'min_samples_split': 5}\n",
      "0.700 (+/-0.178) for {'max_depth': 2, 'min_samples_split': 2}\n",
      "0.700 (+/-0.178) for {'max_depth': 2, 'min_samples_split': 3}\n",
      "0.700 (+/-0.178) for {'max_depth': 2, 'min_samples_split': 5}\n",
      "0.735 (+/-0.102) for {'max_depth': 3, 'min_samples_split': 2}\n",
      "0.726 (+/-0.091) for {'max_depth': 3, 'min_samples_split': 3}\n",
      "0.735 (+/-0.102) for {'max_depth': 3, 'min_samples_split': 5}\n",
      "0.745 (+/-0.079) for {'max_depth': 4, 'min_samples_split': 2}\n",
      "0.756 (+/-0.065) for {'max_depth': 4, 'min_samples_split': 3}\n",
      "0.761 (+/-0.061) for {'max_depth': 4, 'min_samples_split': 5}\n",
      "0.732 (+/-0.126) for {'max_depth': 5, 'min_samples_split': 2}\n",
      "0.748 (+/-0.102) for {'max_depth': 5, 'min_samples_split': 3}\n",
      "0.772 (+/-0.097) for {'max_depth': 5, 'min_samples_split': 5}\n",
      "\n",
      "Detailed classification report:\n",
      "\n",
      "The model is trained on the full development set.\n",
      "The scores are computed on the full evaluation set.\n",
      "\n",
      "MSE: 1494.1245\n",
      "\n"
     ]
    }
   ],
   "source": [
    "print(\"Best parameters set found on development set:\")\n",
    "print()\n",
    "print(clf.best_params_)\n",
    "print()\n",
    "print(\"Grid scores on development set:\")\n",
    "print()\n",
    "means = clf.cv_results_['mean_test_score']\n",
    "stds = clf.cv_results_['std_test_score']\n",
    "for mean, std, params in zip(means, stds, clf.cv_results_['params']):\n",
    "    print(\"%0.3f (+/-%0.03f) for %r\"\n",
    "        % (mean, std * 2, params))\n",
    "print()\n",
    "\n",
    "print(\"Detailed classification report:\")\n",
    "print()\n",
    "print(\"The model is trained on the full development set.\")\n",
    "print(\"The scores are computed on the full evaluation set.\")\n",
    "print()\n",
    "mse = mean_squared_error(y_test, clf.predict(X_test))\n",
    "print(\"MSE: %.4f\" % mse)\n",
    "print()"
   ]
  },
  {
   "cell_type": "markdown",
   "metadata": {},
   "source": [
    "## Random Forest"
   ]
  },
  {
   "cell_type": "code",
   "execution_count": 70,
   "metadata": {
    "collapsed": true
   },
   "outputs": [],
   "source": [
    "from sklearn.ensemble import RandomForestRegressor"
   ]
  },
  {
   "cell_type": "code",
   "execution_count": 74,
   "metadata": {
    "collapsed": true
   },
   "outputs": [],
   "source": [
    "rf = RandomForestRegressor(n_estimators=100, max_depth=3, max_features=1, random_state=42)"
   ]
  },
  {
   "cell_type": "code",
   "execution_count": 75,
   "metadata": {
    "collapsed": false
   },
   "outputs": [
    {
     "data": {
      "text/plain": [
       "RandomForestRegressor(bootstrap=True, criterion='mse', max_depth=3,\n",
       "           max_features=1, max_leaf_nodes=None, min_impurity_decrease=0.0,\n",
       "           min_impurity_split=None, min_samples_leaf=1,\n",
       "           min_samples_split=2, min_weight_fraction_leaf=0.0,\n",
       "           n_estimators=100, n_jobs=1, oob_score=False, random_state=42,\n",
       "           verbose=0, warm_start=False)"
      ]
     },
     "execution_count": 75,
     "metadata": {},
     "output_type": "execute_result"
    }
   ],
   "source": [
    "rf.fit(X_train, y_train)"
   ]
  },
  {
   "cell_type": "code",
   "execution_count": 76,
   "metadata": {
    "collapsed": false
   },
   "outputs": [
    {
     "name": "stdout",
     "output_type": "stream",
     "text": [
      "MSE: 1214.5313\n",
      "R2: 0.8175\n"
     ]
    }
   ],
   "source": [
    "predictions = rf.predict(X_test)\n",
    "mse = mean_squared_error(y_test, predictions)\n",
    "print(\"MSE: %.4f\" % mse)\n",
    "r2 = r2_score(y_test, predictions)\n",
    "print(\"R2: %.4f\" % r2)"
   ]
  },
  {
   "cell_type": "code",
   "execution_count": 78,
   "metadata": {
    "collapsed": false
   },
   "outputs": [
    {
     "data": {
      "text/plain": [
       "GridSearchCV(cv=4, error_score='raise',\n",
       "       estimator=RandomForestRegressor(bootstrap=True, criterion='mse', max_depth=None,\n",
       "           max_features='auto', max_leaf_nodes=None,\n",
       "           min_impurity_decrease=0.0, min_impurity_split=None,\n",
       "           min_samples_leaf=1, min_samples_split=2,\n",
       "           min_weight_fraction_leaf=0.0, n_estimators=100, n_jobs=1,\n",
       "           oob_score=False, random_state=42, verbose=0, warm_start=False),\n",
       "       fit_params=None, iid=True, n_jobs=1,\n",
       "       param_grid=[{'max_depth': [1, 2, 3, 4, 5], 'max_features': [1, 2, 3, 4, 5, 6]}],\n",
       "       pre_dispatch='2*n_jobs', refit=True, return_train_score='warn',\n",
       "       scoring='r2', verbose=0)"
      ]
     },
     "execution_count": 78,
     "metadata": {},
     "output_type": "execute_result"
    }
   ],
   "source": [
    "tuned_parameters = [{'max_depth': [1,2,3,4,5],\n",
    "                     'max_features': [1,2,3,4,5,6]}]\n",
    "\n",
    "clf = GridSearchCV(RandomForestRegressor(random_state=42, n_estimators=100),\n",
    "                   tuned_parameters, cv=4, scoring='r2')\n",
    "clf.fit(X_train, y_train)"
   ]
  },
  {
   "cell_type": "code",
   "execution_count": 79,
   "metadata": {
    "collapsed": false
   },
   "outputs": [
    {
     "name": "stdout",
     "output_type": "stream",
     "text": [
      "Best parameters set found on development set:\n",
      "\n",
      "{'max_depth': 5, 'max_features': 6}\n",
      "\n",
      "Grid scores on development set:\n",
      "\n",
      "0.442 (+/-0.101) for {'max_depth': 1, 'max_features': 1}\n",
      "0.571 (+/-0.115) for {'max_depth': 1, 'max_features': 2}\n",
      "0.597 (+/-0.099) for {'max_depth': 1, 'max_features': 3}\n",
      "0.606 (+/-0.099) for {'max_depth': 1, 'max_features': 4}\n",
      "0.604 (+/-0.096) for {'max_depth': 1, 'max_features': 5}\n",
      "0.599 (+/-0.089) for {'max_depth': 1, 'max_features': 6}\n",
      "0.633 (+/-0.136) for {'max_depth': 2, 'max_features': 1}\n",
      "0.691 (+/-0.111) for {'max_depth': 2, 'max_features': 2}\n",
      "0.721 (+/-0.084) for {'max_depth': 2, 'max_features': 3}\n",
      "0.731 (+/-0.086) for {'max_depth': 2, 'max_features': 4}\n",
      "0.752 (+/-0.120) for {'max_depth': 2, 'max_features': 5}\n",
      "0.753 (+/-0.147) for {'max_depth': 2, 'max_features': 6}\n",
      "0.716 (+/-0.117) for {'max_depth': 3, 'max_features': 1}\n",
      "0.749 (+/-0.104) for {'max_depth': 3, 'max_features': 2}\n",
      "0.766 (+/-0.113) for {'max_depth': 3, 'max_features': 3}\n",
      "0.780 (+/-0.133) for {'max_depth': 3, 'max_features': 4}\n",
      "0.792 (+/-0.135) for {'max_depth': 3, 'max_features': 5}\n",
      "0.797 (+/-0.135) for {'max_depth': 3, 'max_features': 6}\n",
      "0.747 (+/-0.093) for {'max_depth': 4, 'max_features': 1}\n",
      "0.770 (+/-0.111) for {'max_depth': 4, 'max_features': 2}\n",
      "0.786 (+/-0.109) for {'max_depth': 4, 'max_features': 3}\n",
      "0.799 (+/-0.120) for {'max_depth': 4, 'max_features': 4}\n",
      "0.809 (+/-0.122) for {'max_depth': 4, 'max_features': 5}\n",
      "0.814 (+/-0.122) for {'max_depth': 4, 'max_features': 6}\n",
      "0.763 (+/-0.111) for {'max_depth': 5, 'max_features': 1}\n",
      "0.791 (+/-0.104) for {'max_depth': 5, 'max_features': 2}\n",
      "0.798 (+/-0.106) for {'max_depth': 5, 'max_features': 3}\n",
      "0.809 (+/-0.117) for {'max_depth': 5, 'max_features': 4}\n",
      "0.814 (+/-0.120) for {'max_depth': 5, 'max_features': 5}\n",
      "0.820 (+/-0.119) for {'max_depth': 5, 'max_features': 6}\n",
      "\n",
      "Detailed classification report:\n",
      "\n",
      "The model is trained on the full development set.\n",
      "The scores are computed on the full evaluation set.\n",
      "\n",
      "MSE: 826.8238\n",
      "\n"
     ]
    }
   ],
   "source": [
    "print(\"Best parameters set found on development set:\")\n",
    "print()\n",
    "print(clf.best_params_)\n",
    "print()\n",
    "print(\"Grid scores on development set:\")\n",
    "print()\n",
    "means = clf.cv_results_['mean_test_score']\n",
    "stds = clf.cv_results_['std_test_score']\n",
    "for mean, std, params in zip(means, stds, clf.cv_results_['params']):\n",
    "    print(\"%0.3f (+/-%0.03f) for %r\"\n",
    "        % (mean, std * 2, params))\n",
    "print()\n",
    "\n",
    "print(\"Detailed classification report:\")\n",
    "print()\n",
    "print(\"The model is trained on the full development set.\")\n",
    "print(\"The scores are computed on the full evaluation set.\")\n",
    "print()\n",
    "mse = mean_squared_error(y_test, clf.predict(X_test))\n",
    "print(\"MSE: %.4f\" % mse)\n",
    "print()"
   ]
  },
  {
   "cell_type": "markdown",
   "metadata": {},
   "source": [
    "# Classifier"
   ]
  },
  {
   "cell_type": "markdown",
   "metadata": {},
   "source": [
    "## SPAM"
   ]
  },
  {
   "cell_type": "code",
   "execution_count": 80,
   "metadata": {
    "collapsed": true
   },
   "outputs": [],
   "source": [
    "df = pd.read_csv(\"spambase.data\", header=None)"
   ]
  },
  {
   "cell_type": "code",
   "execution_count": 81,
   "metadata": {
    "collapsed": false
   },
   "outputs": [
    {
     "data": {
      "text/plain": [
       "(4601, 58)"
      ]
     },
     "execution_count": 81,
     "metadata": {},
     "output_type": "execute_result"
    }
   ],
   "source": [
    "df.shape"
   ]
  },
  {
   "cell_type": "code",
   "execution_count": 82,
   "metadata": {
    "collapsed": false
   },
   "outputs": [
    {
     "data": {
      "text/html": [
       "<div>\n",
       "<style scoped>\n",
       "    .dataframe tbody tr th:only-of-type {\n",
       "        vertical-align: middle;\n",
       "    }\n",
       "\n",
       "    .dataframe tbody tr th {\n",
       "        vertical-align: top;\n",
       "    }\n",
       "\n",
       "    .dataframe thead th {\n",
       "        text-align: right;\n",
       "    }\n",
       "</style>\n",
       "<table border=\"1\" class=\"dataframe\">\n",
       "  <thead>\n",
       "    <tr style=\"text-align: right;\">\n",
       "      <th></th>\n",
       "      <th>0</th>\n",
       "      <th>1</th>\n",
       "      <th>2</th>\n",
       "      <th>3</th>\n",
       "      <th>4</th>\n",
       "      <th>5</th>\n",
       "      <th>6</th>\n",
       "      <th>7</th>\n",
       "      <th>8</th>\n",
       "      <th>9</th>\n",
       "      <th>...</th>\n",
       "      <th>48</th>\n",
       "      <th>49</th>\n",
       "      <th>50</th>\n",
       "      <th>51</th>\n",
       "      <th>52</th>\n",
       "      <th>53</th>\n",
       "      <th>54</th>\n",
       "      <th>55</th>\n",
       "      <th>56</th>\n",
       "      <th>57</th>\n",
       "    </tr>\n",
       "  </thead>\n",
       "  <tbody>\n",
       "    <tr>\n",
       "      <th>0</th>\n",
       "      <td>0.00</td>\n",
       "      <td>0.64</td>\n",
       "      <td>0.64</td>\n",
       "      <td>0.0</td>\n",
       "      <td>0.32</td>\n",
       "      <td>0.00</td>\n",
       "      <td>0.00</td>\n",
       "      <td>0.00</td>\n",
       "      <td>0.00</td>\n",
       "      <td>0.00</td>\n",
       "      <td>...</td>\n",
       "      <td>0.00</td>\n",
       "      <td>0.000</td>\n",
       "      <td>0.0</td>\n",
       "      <td>0.778</td>\n",
       "      <td>0.000</td>\n",
       "      <td>0.000</td>\n",
       "      <td>3.756</td>\n",
       "      <td>61</td>\n",
       "      <td>278</td>\n",
       "      <td>1</td>\n",
       "    </tr>\n",
       "    <tr>\n",
       "      <th>1</th>\n",
       "      <td>0.21</td>\n",
       "      <td>0.28</td>\n",
       "      <td>0.50</td>\n",
       "      <td>0.0</td>\n",
       "      <td>0.14</td>\n",
       "      <td>0.28</td>\n",
       "      <td>0.21</td>\n",
       "      <td>0.07</td>\n",
       "      <td>0.00</td>\n",
       "      <td>0.94</td>\n",
       "      <td>...</td>\n",
       "      <td>0.00</td>\n",
       "      <td>0.132</td>\n",
       "      <td>0.0</td>\n",
       "      <td>0.372</td>\n",
       "      <td>0.180</td>\n",
       "      <td>0.048</td>\n",
       "      <td>5.114</td>\n",
       "      <td>101</td>\n",
       "      <td>1028</td>\n",
       "      <td>1</td>\n",
       "    </tr>\n",
       "    <tr>\n",
       "      <th>2</th>\n",
       "      <td>0.06</td>\n",
       "      <td>0.00</td>\n",
       "      <td>0.71</td>\n",
       "      <td>0.0</td>\n",
       "      <td>1.23</td>\n",
       "      <td>0.19</td>\n",
       "      <td>0.19</td>\n",
       "      <td>0.12</td>\n",
       "      <td>0.64</td>\n",
       "      <td>0.25</td>\n",
       "      <td>...</td>\n",
       "      <td>0.01</td>\n",
       "      <td>0.143</td>\n",
       "      <td>0.0</td>\n",
       "      <td>0.276</td>\n",
       "      <td>0.184</td>\n",
       "      <td>0.010</td>\n",
       "      <td>9.821</td>\n",
       "      <td>485</td>\n",
       "      <td>2259</td>\n",
       "      <td>1</td>\n",
       "    </tr>\n",
       "    <tr>\n",
       "      <th>3</th>\n",
       "      <td>0.00</td>\n",
       "      <td>0.00</td>\n",
       "      <td>0.00</td>\n",
       "      <td>0.0</td>\n",
       "      <td>0.63</td>\n",
       "      <td>0.00</td>\n",
       "      <td>0.31</td>\n",
       "      <td>0.63</td>\n",
       "      <td>0.31</td>\n",
       "      <td>0.63</td>\n",
       "      <td>...</td>\n",
       "      <td>0.00</td>\n",
       "      <td>0.137</td>\n",
       "      <td>0.0</td>\n",
       "      <td>0.137</td>\n",
       "      <td>0.000</td>\n",
       "      <td>0.000</td>\n",
       "      <td>3.537</td>\n",
       "      <td>40</td>\n",
       "      <td>191</td>\n",
       "      <td>1</td>\n",
       "    </tr>\n",
       "    <tr>\n",
       "      <th>4</th>\n",
       "      <td>0.00</td>\n",
       "      <td>0.00</td>\n",
       "      <td>0.00</td>\n",
       "      <td>0.0</td>\n",
       "      <td>0.63</td>\n",
       "      <td>0.00</td>\n",
       "      <td>0.31</td>\n",
       "      <td>0.63</td>\n",
       "      <td>0.31</td>\n",
       "      <td>0.63</td>\n",
       "      <td>...</td>\n",
       "      <td>0.00</td>\n",
       "      <td>0.135</td>\n",
       "      <td>0.0</td>\n",
       "      <td>0.135</td>\n",
       "      <td>0.000</td>\n",
       "      <td>0.000</td>\n",
       "      <td>3.537</td>\n",
       "      <td>40</td>\n",
       "      <td>191</td>\n",
       "      <td>1</td>\n",
       "    </tr>\n",
       "  </tbody>\n",
       "</table>\n",
       "<p>5 rows × 58 columns</p>\n",
       "</div>"
      ],
      "text/plain": [
       "     0     1     2    3     4     5     6     7     8     9  ...    48     49  \\\n",
       "0  0.00  0.64  0.64  0.0  0.32  0.00  0.00  0.00  0.00  0.00 ...  0.00  0.000   \n",
       "1  0.21  0.28  0.50  0.0  0.14  0.28  0.21  0.07  0.00  0.94 ...  0.00  0.132   \n",
       "2  0.06  0.00  0.71  0.0  1.23  0.19  0.19  0.12  0.64  0.25 ...  0.01  0.143   \n",
       "3  0.00  0.00  0.00  0.0  0.63  0.00  0.31  0.63  0.31  0.63 ...  0.00  0.137   \n",
       "4  0.00  0.00  0.00  0.0  0.63  0.00  0.31  0.63  0.31  0.63 ...  0.00  0.135   \n",
       "\n",
       "    50     51     52     53     54   55    56  57  \n",
       "0  0.0  0.778  0.000  0.000  3.756   61   278   1  \n",
       "1  0.0  0.372  0.180  0.048  5.114  101  1028   1  \n",
       "2  0.0  0.276  0.184  0.010  9.821  485  2259   1  \n",
       "3  0.0  0.137  0.000  0.000  3.537   40   191   1  \n",
       "4  0.0  0.135  0.000  0.000  3.537   40   191   1  \n",
       "\n",
       "[5 rows x 58 columns]"
      ]
     },
     "execution_count": 82,
     "metadata": {},
     "output_type": "execute_result"
    }
   ],
   "source": [
    "df.head()"
   ]
  },
  {
   "cell_type": "code",
   "execution_count": 83,
   "metadata": {
    "collapsed": true
   },
   "outputs": [],
   "source": [
    "from sklearn.model_selection import train_test_split"
   ]
  },
  {
   "cell_type": "code",
   "execution_count": 84,
   "metadata": {
    "collapsed": true
   },
   "outputs": [],
   "source": [
    "X = df.iloc[:,0:56]\n",
    "y = df.iloc[:,57]\n",
    "X_train, X_test, y_train, y_test = train_test_split(X, y, test_size=0.3, random_state=42)"
   ]
  },
  {
   "cell_type": "code",
   "execution_count": 86,
   "metadata": {
    "collapsed": false
   },
   "outputs": [
    {
     "name": "stdout",
     "output_type": "stream",
     "text": [
      "(3220, 56)\n",
      "(1381, 56)\n"
     ]
    }
   ],
   "source": [
    "print(X_train.shape)\n",
    "print(X_test.shape)"
   ]
  },
  {
   "cell_type": "markdown",
   "metadata": {},
   "source": [
    "## Logistic Regression"
   ]
  },
  {
   "cell_type": "code",
   "execution_count": 87,
   "metadata": {
    "collapsed": true
   },
   "outputs": [],
   "source": [
    "from sklearn.linear_model import LogisticRegression"
   ]
  },
  {
   "cell_type": "code",
   "execution_count": 88,
   "metadata": {
    "collapsed": false
   },
   "outputs": [
    {
     "name": "stdout",
     "output_type": "stream",
     "text": [
      "accuracy_score: 0.9254\n"
     ]
    }
   ],
   "source": [
    "lo = LogisticRegression(C=10)\n",
    "lo.fit(X_train, y_train)\n",
    "predictions = lo.predict(X_test)\n",
    "from sklearn.metrics import accuracy_score\n",
    "acc = accuracy_score(y_test, predictions)\n",
    "print(\"accuracy_score: %.4f\" % acc)"
   ]
  },
  {
   "cell_type": "markdown",
   "metadata": {},
   "source": [
    "Curva ROC"
   ]
  },
  {
   "cell_type": "code",
   "execution_count": 89,
   "metadata": {
    "collapsed": false
   },
   "outputs": [
    {
     "data": {
      "text/plain": [
       "0.97178104279296751"
      ]
     },
     "execution_count": 89,
     "metadata": {},
     "output_type": "execute_result"
    }
   ],
   "source": [
    "from sklearn.metrics import roc_auc_score\n",
    "probs = lo.predict_proba(X_test)\n",
    "roc_auc_score(y_test, probs[:,1])"
   ]
  },
  {
   "cell_type": "code",
   "execution_count": 92,
   "metadata": {
    "collapsed": false
   },
   "outputs": [
    {
     "data": {
      "text/plain": [
       "GridSearchCV(cv=4, error_score='raise',\n",
       "       estimator=LogisticRegression(C=1.0, class_weight=None, dual=False, fit_intercept=True,\n",
       "          intercept_scaling=1, max_iter=100, multi_class='ovr', n_jobs=1,\n",
       "          penalty='l2', random_state=42, solver='liblinear', tol=0.0001,\n",
       "          verbose=0, warm_start=False),\n",
       "       fit_params=None, iid=True, n_jobs=1,\n",
       "       param_grid=[{'C': [0.1, 1, 10, 100, 1000]}],\n",
       "       pre_dispatch='2*n_jobs', refit=True, return_train_score='warn',\n",
       "       scoring='accuracy', verbose=0)"
      ]
     },
     "execution_count": 92,
     "metadata": {},
     "output_type": "execute_result"
    }
   ],
   "source": [
    "tuned_parameters = [{'C': [0.1,1,10,100,1000]}]\n",
    "\n",
    "clf = GridSearchCV(LogisticRegression(random_state=42), tuned_parameters, cv=4, scoring='accuracy')\n",
    "clf.fit(X_train, y_train)"
   ]
  },
  {
   "cell_type": "code",
   "execution_count": 93,
   "metadata": {
    "collapsed": false
   },
   "outputs": [
    {
     "name": "stdout",
     "output_type": "stream",
     "text": [
      "Best parameters set found on development set:\n",
      "\n",
      "{'C': 100}\n",
      "\n",
      "Grid scores on development set:\n",
      "\n",
      "0.919 (+/-0.019) for {'C': 0.1}\n",
      "0.924 (+/-0.022) for {'C': 1}\n",
      "0.923 (+/-0.017) for {'C': 10}\n",
      "0.924 (+/-0.016) for {'C': 100}\n",
      "0.924 (+/-0.016) for {'C': 1000}\n",
      "\n",
      "Detailed classification report:\n",
      "\n",
      "The model is trained on the full development set.\n",
      "The scores are computed on the full evaluation set.\n",
      "\n",
      "Accuracy: 0.9261\n",
      "\n"
     ]
    }
   ],
   "source": [
    "print(\"Best parameters set found on development set:\")\n",
    "print()\n",
    "print(clf.best_params_)\n",
    "print()\n",
    "print(\"Grid scores on development set:\")\n",
    "print()\n",
    "means = clf.cv_results_['mean_test_score']\n",
    "stds = clf.cv_results_['std_test_score']\n",
    "for mean, std, params in zip(means, stds, clf.cv_results_['params']):\n",
    "    print(\"%0.3f (+/-%0.03f) for %r\"\n",
    "        % (mean, std * 2, params))\n",
    "print()\n",
    "\n",
    "print(\"Detailed classification report:\")\n",
    "print()\n",
    "print(\"The model is trained on the full development set.\")\n",
    "print(\"The scores are computed on the full evaluation set.\")\n",
    "print()\n",
    "from sklearn.metrics import accuracy_score\n",
    "acc = accuracy_score(y_test, clf.predict(X_test))\n",
    "print(\"Accuracy: %.4f\" % acc)\n",
    "print()"
   ]
  },
  {
   "cell_type": "markdown",
   "metadata": {},
   "source": [
    "Matriz de confusão:"
   ]
  },
  {
   "cell_type": "code",
   "execution_count": 94,
   "metadata": {
    "collapsed": false
   },
   "outputs": [
    {
     "data": {
      "text/plain": [
       "array([[769,  35],\n",
       "       [ 67, 510]], dtype=int64)"
      ]
     },
     "execution_count": 94,
     "metadata": {},
     "output_type": "execute_result"
    }
   ],
   "source": [
    "from sklearn.metrics import confusion_matrix\n",
    "confusion_matrix(y_test, clf.predict(X_test))"
   ]
  },
  {
   "cell_type": "markdown",
   "metadata": {},
   "source": [
    "F1 score:"
   ]
  },
  {
   "cell_type": "code",
   "execution_count": 95,
   "metadata": {
    "collapsed": false
   },
   "outputs": [
    {
     "data": {
      "text/plain": [
       "0.90909090909090917"
      ]
     },
     "execution_count": 95,
     "metadata": {},
     "output_type": "execute_result"
    }
   ],
   "source": [
    "from sklearn.metrics import f1_score\n",
    "f1_score(y_test, clf.predict(X_test))"
   ]
  },
  {
   "cell_type": "markdown",
   "metadata": {},
   "source": [
    "## Decision Tree"
   ]
  },
  {
   "cell_type": "code",
   "execution_count": 96,
   "metadata": {
    "collapsed": true
   },
   "outputs": [],
   "source": [
    "from sklearn.tree import DecisionTreeClassifier"
   ]
  },
  {
   "cell_type": "code",
   "execution_count": 97,
   "metadata": {
    "collapsed": false
   },
   "outputs": [
    {
     "name": "stdout",
     "output_type": "stream",
     "text": [
      "accuracy_score: 0.8617\n"
     ]
    }
   ],
   "source": [
    "dt = DecisionTreeClassifier(max_depth=3)\n",
    "dt.fit(X_train, y_train)\n",
    "predictions = dt.predict(X_test)\n",
    "acc = accuracy_score(y_test, predictions)\n",
    "print(\"accuracy_score: %.4f\" % acc)"
   ]
  },
  {
   "cell_type": "code",
   "execution_count": 98,
   "metadata": {
    "collapsed": false
   },
   "outputs": [
    {
     "data": {
      "text/plain": [
       "GridSearchCV(cv=4, error_score='raise',\n",
       "       estimator=DecisionTreeClassifier(class_weight=None, criterion='gini', max_depth=None,\n",
       "            max_features=None, max_leaf_nodes=None,\n",
       "            min_impurity_decrease=0.0, min_impurity_split=None,\n",
       "            min_samples_leaf=1, min_samples_split=2,\n",
       "            min_weight_fraction_leaf=0.0, presort=False, random_state=42,\n",
       "            splitter='best'),\n",
       "       fit_params=None, iid=True, n_jobs=1,\n",
       "       param_grid=[{'max_depth': [1, 3, 5, 10, 20], 'min_samples_split': [3, 5, 10]}],\n",
       "       pre_dispatch='2*n_jobs', refit=True, return_train_score='warn',\n",
       "       scoring='accuracy', verbose=0)"
      ]
     },
     "execution_count": 98,
     "metadata": {},
     "output_type": "execute_result"
    }
   ],
   "source": [
    "tuned_parameters = [{'max_depth': [1,3,5,10,20],\n",
    "                     'min_samples_split': [3,5,10]}]\n",
    "\n",
    "clf = GridSearchCV(DecisionTreeClassifier(random_state=42), tuned_parameters, cv=4, scoring='accuracy')\n",
    "clf.fit(X_train, y_train)"
   ]
  },
  {
   "cell_type": "code",
   "execution_count": 99,
   "metadata": {
    "collapsed": false
   },
   "outputs": [
    {
     "name": "stdout",
     "output_type": "stream",
     "text": [
      "Best parameters set found on development set:\n",
      "\n",
      "{'max_depth': 10, 'min_samples_split': 10}\n",
      "\n",
      "Grid scores on development set:\n",
      "\n",
      "0.798 (+/-0.023) for {'max_depth': 1, 'min_samples_split': 3}\n",
      "0.798 (+/-0.023) for {'max_depth': 1, 'min_samples_split': 5}\n",
      "0.798 (+/-0.023) for {'max_depth': 1, 'min_samples_split': 10}\n",
      "0.880 (+/-0.026) for {'max_depth': 3, 'min_samples_split': 3}\n",
      "0.880 (+/-0.026) for {'max_depth': 3, 'min_samples_split': 5}\n",
      "0.880 (+/-0.026) for {'max_depth': 3, 'min_samples_split': 10}\n",
      "0.910 (+/-0.010) for {'max_depth': 5, 'min_samples_split': 3}\n",
      "0.909 (+/-0.010) for {'max_depth': 5, 'min_samples_split': 5}\n",
      "0.908 (+/-0.007) for {'max_depth': 5, 'min_samples_split': 10}\n",
      "0.912 (+/-0.015) for {'max_depth': 10, 'min_samples_split': 3}\n",
      "0.912 (+/-0.022) for {'max_depth': 10, 'min_samples_split': 5}\n",
      "0.913 (+/-0.014) for {'max_depth': 10, 'min_samples_split': 10}\n",
      "0.906 (+/-0.015) for {'max_depth': 20, 'min_samples_split': 3}\n",
      "0.905 (+/-0.023) for {'max_depth': 20, 'min_samples_split': 5}\n",
      "0.902 (+/-0.004) for {'max_depth': 20, 'min_samples_split': 10}\n",
      "\n",
      "Detailed classification report:\n",
      "\n",
      "The model is trained on the full development set.\n",
      "The scores are computed on the full evaluation set.\n",
      "\n",
      "Accuracy: 0.9109\n",
      "\n"
     ]
    }
   ],
   "source": [
    "print(\"Best parameters set found on development set:\")\n",
    "print()\n",
    "print(clf.best_params_)\n",
    "print()\n",
    "print(\"Grid scores on development set:\")\n",
    "print()\n",
    "means = clf.cv_results_['mean_test_score']\n",
    "stds = clf.cv_results_['std_test_score']\n",
    "for mean, std, params in zip(means, stds, clf.cv_results_['params']):\n",
    "    print(\"%0.3f (+/-%0.03f) for %r\"\n",
    "        % (mean, std * 2, params))\n",
    "print()\n",
    "\n",
    "print(\"Detailed classification report:\")\n",
    "print()\n",
    "print(\"The model is trained on the full development set.\")\n",
    "print(\"The scores are computed on the full evaluation set.\")\n",
    "print()\n",
    "from sklearn.metrics import accuracy_score\n",
    "acc = accuracy_score(y_test, clf.predict(X_test))\n",
    "print(\"Accuracy: %.4f\" % acc)\n",
    "print()"
   ]
  },
  {
   "cell_type": "markdown",
   "metadata": {},
   "source": [
    "## Random Forest"
   ]
  },
  {
   "cell_type": "code",
   "execution_count": 100,
   "metadata": {
    "collapsed": true
   },
   "outputs": [],
   "source": [
    "from sklearn.ensemble import RandomForestClassifier"
   ]
  },
  {
   "cell_type": "code",
   "execution_count": 101,
   "metadata": {
    "collapsed": false
   },
   "outputs": [
    {
     "name": "stdout",
     "output_type": "stream",
     "text": [
      "accuracy_score: 0.9037\n"
     ]
    }
   ],
   "source": [
    "rf = RandomForestClassifier(n_estimators=100, max_depth=3, max_features=5)\n",
    "rf.fit(X_train, y_train)\n",
    "predictions = rf.predict(X_test)\n",
    "acc = accuracy_score(y_test, predictions)\n",
    "print(\"accuracy_score: %.4f\" % acc)"
   ]
  },
  {
   "cell_type": "code",
   "execution_count": 104,
   "metadata": {
    "collapsed": false
   },
   "outputs": [
    {
     "name": "stdout",
     "output_type": "stream",
     "text": [
      "Fitting 3 folds for each of 50 candidates, totalling 150 fits\n",
      "[CV] max_depth=1, max_features=1, n_estimators=100 ...................\n",
      "[CV]  max_depth=1, max_features=1, n_estimators=100, score=0.6675977653631285, total=   0.0s\n",
      "[CV] max_depth=1, max_features=1, n_estimators=100 ...................\n"
     ]
    },
    {
     "name": "stderr",
     "output_type": "stream",
     "text": [
      "[Parallel(n_jobs=1)]: Done   1 out of   1 | elapsed:    0.0s remaining:    0.0s\n",
      "[Parallel(n_jobs=1)]: Done   2 out of   2 | elapsed:    0.2s remaining:    0.0s\n"
     ]
    },
    {
     "name": "stdout",
     "output_type": "stream",
     "text": [
      "[CV]  max_depth=1, max_features=1, n_estimators=100, score=0.6598322460391426, total=   0.0s\n",
      "[CV] max_depth=1, max_features=1, n_estimators=100 ...................\n",
      "[CV]  max_depth=1, max_features=1, n_estimators=100, score=0.6589002795899348, total=   0.0s\n",
      "[CV] max_depth=1, max_features=1, n_estimators=300 ...................\n"
     ]
    },
    {
     "name": "stderr",
     "output_type": "stream",
     "text": [
      "[Parallel(n_jobs=1)]: Done   3 out of   3 | elapsed:    0.3s remaining:    0.0s\n"
     ]
    },
    {
     "name": "stdout",
     "output_type": "stream",
     "text": [
      "[CV]  max_depth=1, max_features=1, n_estimators=300, score=0.6787709497206704, total=   0.2s\n",
      "[CV] max_depth=1, max_features=1, n_estimators=300 ...................\n"
     ]
    },
    {
     "name": "stderr",
     "output_type": "stream",
     "text": [
      "[Parallel(n_jobs=1)]: Done   4 out of   4 | elapsed:    0.6s remaining:    0.0s\n"
     ]
    },
    {
     "name": "stdout",
     "output_type": "stream",
     "text": [
      "[CV]  max_depth=1, max_features=1, n_estimators=300, score=0.6710158434296365, total=   0.2s\n",
      "[CV] max_depth=1, max_features=1, n_estimators=300 ...................\n"
     ]
    },
    {
     "name": "stderr",
     "output_type": "stream",
     "text": [
      "[Parallel(n_jobs=1)]: Done   5 out of   5 | elapsed:    1.0s remaining:    0.0s\n"
     ]
    },
    {
     "name": "stdout",
     "output_type": "stream",
     "text": [
      "[CV]  max_depth=1, max_features=1, n_estimators=300, score=0.6710158434296365, total=   0.2s\n",
      "[CV] max_depth=1, max_features=5, n_estimators=100 ...................\n",
      "[CV]  max_depth=1, max_features=5, n_estimators=100, score=0.7951582867783985, total=   0.0s\n",
      "[CV] max_depth=1, max_features=5, n_estimators=100 ...................\n"
     ]
    },
    {
     "name": "stderr",
     "output_type": "stream",
     "text": [
      "[Parallel(n_jobs=1)]: Done   6 out of   6 | elapsed:    1.4s remaining:    0.0s\n",
      "[Parallel(n_jobs=1)]: Done   7 out of   7 | elapsed:    1.5s remaining:    0.0s\n"
     ]
    },
    {
     "name": "stdout",
     "output_type": "stream",
     "text": [
      "[CV]  max_depth=1, max_features=5, n_estimators=100, score=0.8182665424044734, total=   0.0s\n",
      "[CV] max_depth=1, max_features=5, n_estimators=100 ...................\n",
      "[CV]  max_depth=1, max_features=5, n_estimators=100, score=0.8294501397949674, total=   0.0s\n",
      "[CV] max_depth=1, max_features=5, n_estimators=300 ...................\n"
     ]
    },
    {
     "name": "stderr",
     "output_type": "stream",
     "text": [
      "[Parallel(n_jobs=1)]: Done   8 out of   8 | elapsed:    1.6s remaining:    0.0s\n",
      "[Parallel(n_jobs=1)]: Done   9 out of   9 | elapsed:    1.8s remaining:    0.0s\n"
     ]
    },
    {
     "name": "stdout",
     "output_type": "stream",
     "text": [
      "[CV]  max_depth=1, max_features=5, n_estimators=300, score=0.8091247672253259, total=   0.2s\n",
      "[CV] max_depth=1, max_features=5, n_estimators=300 ...................\n",
      "[CV]  max_depth=1, max_features=5, n_estimators=300, score=0.8219944082013048, total=   0.2s\n",
      "[CV] max_depth=1, max_features=5, n_estimators=300 ...................\n",
      "[CV]  max_depth=1, max_features=5, n_estimators=300, score=0.8247903075489282, total=   0.2s\n",
      "[CV] max_depth=1, max_features=10, n_estimators=100 ..................\n",
      "[CV]  max_depth=1, max_features=10, n_estimators=100, score=0.8268156424581006, total=   0.0s\n",
      "[CV] max_depth=1, max_features=10, n_estimators=100 ..................\n",
      "[CV]  max_depth=1, max_features=10, n_estimators=100, score=0.8499534016775396, total=   0.0s\n",
      "[CV] max_depth=1, max_features=10, n_estimators=100 ..................\n",
      "[CV]  max_depth=1, max_features=10, n_estimators=100, score=0.8536812674743709, total=   0.0s\n",
      "[CV] max_depth=1, max_features=10, n_estimators=300 ..................\n",
      "[CV]  max_depth=1, max_features=10, n_estimators=300, score=0.8277467411545624, total=   0.3s\n",
      "[CV] max_depth=1, max_features=10, n_estimators=300 ..................\n",
      "[CV]  max_depth=1, max_features=10, n_estimators=300, score=0.8462255358807083, total=   0.3s\n",
      "[CV] max_depth=1, max_features=10, n_estimators=300 ..................\n",
      "[CV]  max_depth=1, max_features=10, n_estimators=300, score=0.8555452003727866, total=   0.3s\n",
      "[CV] max_depth=1, max_features=30, n_estimators=100 ..................\n",
      "[CV]  max_depth=1, max_features=30, n_estimators=100, score=0.8370577281191807, total=   0.1s\n",
      "[CV] max_depth=1, max_features=30, n_estimators=100 ..................\n",
      "[CV]  max_depth=1, max_features=30, n_estimators=100, score=0.8275862068965517, total=   0.1s\n",
      "[CV] max_depth=1, max_features=30, n_estimators=100 ..................\n",
      "[CV]  max_depth=1, max_features=30, n_estimators=100, score=0.863932898415657, total=   0.1s\n",
      "[CV] max_depth=1, max_features=30, n_estimators=300 ..................\n",
      "[CV]  max_depth=1, max_features=30, n_estimators=300, score=0.8230912476722533, total=   0.4s\n",
      "[CV] max_depth=1, max_features=30, n_estimators=300 ..................\n",
      "[CV]  max_depth=1, max_features=30, n_estimators=300, score=0.8322460391425909, total=   0.4s\n",
      "[CV] max_depth=1, max_features=30, n_estimators=300 ..................\n",
      "[CV]  max_depth=1, max_features=30, n_estimators=300, score=0.8630009319664492, total=   0.5s\n",
      "[CV] max_depth=1, max_features=56, n_estimators=100 ..................\n",
      "[CV]  max_depth=1, max_features=56, n_estimators=100, score=0.7877094972067039, total=   0.2s\n",
      "[CV] max_depth=1, max_features=56, n_estimators=100 ..................\n",
      "[CV]  max_depth=1, max_features=56, n_estimators=100, score=0.7921714818266542, total=   0.1s\n",
      "[CV] max_depth=1, max_features=56, n_estimators=100 ..................\n",
      "[CV]  max_depth=1, max_features=56, n_estimators=100, score=0.8555452003727866, total=   0.1s\n",
      "[CV] max_depth=1, max_features=56, n_estimators=300 ..................\n",
      "[CV]  max_depth=1, max_features=56, n_estimators=300, score=0.7895716945996276, total=   0.6s\n",
      "[CV] max_depth=1, max_features=56, n_estimators=300 ..................\n",
      "[CV]  max_depth=1, max_features=56, n_estimators=300, score=0.7921714818266542, total=   0.6s\n",
      "[CV] max_depth=1, max_features=56, n_estimators=300 ..................\n",
      "[CV]  max_depth=1, max_features=56, n_estimators=300, score=0.8247903075489282, total=   0.6s\n",
      "[CV] max_depth=3, max_features=1, n_estimators=100 ...................\n",
      "[CV]  max_depth=3, max_features=1, n_estimators=100, score=0.8277467411545624, total=   0.0s\n",
      "[CV] max_depth=3, max_features=1, n_estimators=100 ...................\n",
      "[CV]  max_depth=3, max_features=1, n_estimators=100, score=0.8313140726933831, total=   0.0s\n",
      "[CV] max_depth=3, max_features=1, n_estimators=100 ...................\n",
      "[CV]  max_depth=3, max_features=1, n_estimators=100, score=0.8341099720410066, total=   0.0s\n",
      "[CV] max_depth=3, max_features=1, n_estimators=300 ...................\n",
      "[CV]  max_depth=3, max_features=1, n_estimators=300, score=0.8296089385474861, total=   0.3s\n",
      "[CV] max_depth=3, max_features=1, n_estimators=300 ...................\n",
      "[CV]  max_depth=3, max_features=1, n_estimators=300, score=0.8313140726933831, total=   0.4s\n",
      "[CV] max_depth=3, max_features=1, n_estimators=300 ...................\n",
      "[CV]  max_depth=3, max_features=1, n_estimators=300, score=0.8359739049394221, total=   0.3s\n",
      "[CV] max_depth=3, max_features=5, n_estimators=100 ...................\n",
      "[CV]  max_depth=3, max_features=5, n_estimators=100, score=0.8873370577281192, total=   0.1s\n",
      "[CV] max_depth=3, max_features=5, n_estimators=100 ...................\n",
      "[CV]  max_depth=3, max_features=5, n_estimators=100, score=0.8872320596458527, total=   0.1s\n",
      "[CV] max_depth=3, max_features=5, n_estimators=100 ...................\n",
      "[CV]  max_depth=3, max_features=5, n_estimators=100, score=0.9151910531220876, total=   0.1s\n",
      "[CV] max_depth=3, max_features=5, n_estimators=300 ...................\n",
      "[CV]  max_depth=3, max_features=5, n_estimators=300, score=0.8873370577281192, total=   0.4s\n",
      "[CV] max_depth=3, max_features=5, n_estimators=300 ...................\n",
      "[CV]  max_depth=3, max_features=5, n_estimators=300, score=0.8909599254426841, total=   0.4s\n",
      "[CV] max_depth=3, max_features=5, n_estimators=300 ...................\n",
      "[CV]  max_depth=3, max_features=5, n_estimators=300, score=0.9095992544268406, total=   0.4s\n",
      "[CV] max_depth=3, max_features=10, n_estimators=100 ..................\n",
      "[CV]  max_depth=3, max_features=10, n_estimators=100, score=0.9022346368715084, total=   0.1s\n",
      "[CV] max_depth=3, max_features=10, n_estimators=100 ..................\n",
      "[CV]  max_depth=3, max_features=10, n_estimators=100, score=0.9002795899347623, total=   0.1s\n",
      "[CV] max_depth=3, max_features=10, n_estimators=100 ..................\n",
      "[CV]  max_depth=3, max_features=10, n_estimators=100, score=0.9273066169617894, total=   0.1s\n",
      "[CV] max_depth=3, max_features=10, n_estimators=300 ..................\n",
      "[CV]  max_depth=3, max_features=10, n_estimators=300, score=0.9078212290502793, total=   0.5s\n",
      "[CV] max_depth=3, max_features=10, n_estimators=300 ..................\n",
      "[CV]  max_depth=3, max_features=10, n_estimators=300, score=0.9012115563839702, total=   0.4s\n",
      "[CV] max_depth=3, max_features=10, n_estimators=300 ..................\n",
      "[CV]  max_depth=3, max_features=10, n_estimators=300, score=0.9282385834109972, total=   0.4s\n",
      "[CV] max_depth=3, max_features=30, n_estimators=100 ..................\n",
      "[CV]  max_depth=3, max_features=30, n_estimators=100, score=0.9013035381750466, total=   0.3s\n",
      "[CV] max_depth=3, max_features=30, n_estimators=100 ..................\n",
      "[CV]  max_depth=3, max_features=30, n_estimators=100, score=0.907735321528425, total=   0.2s\n",
      "[CV] max_depth=3, max_features=30, n_estimators=100 ..................\n",
      "[CV]  max_depth=3, max_features=30, n_estimators=100, score=0.9301025163094129, total=   0.3s\n",
      "[CV] max_depth=3, max_features=30, n_estimators=300 ..................\n",
      "[CV]  max_depth=3, max_features=30, n_estimators=300, score=0.9022346368715084, total=   0.9s\n",
      "[CV] max_depth=3, max_features=30, n_estimators=300 ..................\n",
      "[CV]  max_depth=3, max_features=30, n_estimators=300, score=0.907735321528425, total=   1.0s\n",
      "[CV] max_depth=3, max_features=30, n_estimators=300 ..................\n",
      "[CV]  max_depth=3, max_features=30, n_estimators=300, score=0.9291705498602051, total=   0.9s\n",
      "[CV] max_depth=3, max_features=56, n_estimators=100 ..................\n",
      "[CV]  max_depth=3, max_features=56, n_estimators=100, score=0.8947858472998138, total=   0.4s\n",
      "[CV] max_depth=3, max_features=56, n_estimators=100 ..................\n",
      "[CV]  max_depth=3, max_features=56, n_estimators=100, score=0.896551724137931, total=   0.5s\n",
      "[CV] max_depth=3, max_features=56, n_estimators=100 ..................\n",
      "[CV]  max_depth=3, max_features=56, n_estimators=100, score=0.9263746505125815, total=   0.5s\n",
      "[CV] max_depth=3, max_features=56, n_estimators=300 ..................\n",
      "[CV]  max_depth=3, max_features=56, n_estimators=300, score=0.8994413407821229, total=   1.5s\n",
      "[CV] max_depth=3, max_features=56, n_estimators=300 ..................\n",
      "[CV]  max_depth=3, max_features=56, n_estimators=300, score=0.896551724137931, total=   1.5s\n",
      "[CV] max_depth=3, max_features=56, n_estimators=300 ..................\n",
      "[CV]  max_depth=3, max_features=56, n_estimators=300, score=0.923578751164958, total=   1.4s\n",
      "[CV] max_depth=5, max_features=1, n_estimators=100 ...................\n",
      "[CV]  max_depth=5, max_features=1, n_estimators=100, score=0.8584729981378026, total=   0.0s\n",
      "[CV] max_depth=5, max_features=1, n_estimators=100 ...................\n",
      "[CV]  max_depth=5, max_features=1, n_estimators=100, score=0.8723205964585274, total=   0.0s\n",
      "[CV] max_depth=5, max_features=1, n_estimators=100 ...................\n",
      "[CV]  max_depth=5, max_features=1, n_estimators=100, score=0.875116495806151, total=   0.0s\n",
      "[CV] max_depth=5, max_features=1, n_estimators=300 ...................\n",
      "[CV]  max_depth=5, max_features=1, n_estimators=300, score=0.8575418994413407, total=   0.3s\n",
      "[CV] max_depth=5, max_features=1, n_estimators=300 ...................\n",
      "[CV]  max_depth=5, max_features=1, n_estimators=300, score=0.8741845293569431, total=   0.3s\n",
      "[CV] max_depth=5, max_features=1, n_estimators=300 ...................\n",
      "[CV]  max_depth=5, max_features=1, n_estimators=300, score=0.8667287977632805, total=   0.3s\n",
      "[CV] max_depth=5, max_features=5, n_estimators=100 ...................\n",
      "[CV]  max_depth=5, max_features=5, n_estimators=100, score=0.9152700186219739, total=   0.1s\n",
      "[CV] max_depth=5, max_features=5, n_estimators=100 ...................\n",
      "[CV]  max_depth=5, max_features=5, n_estimators=100, score=0.9040074557315937, total=   0.1s\n",
      "[CV] max_depth=5, max_features=5, n_estimators=100 ...................\n",
      "[CV]  max_depth=5, max_features=5, n_estimators=100, score=0.934762348555452, total=   0.1s\n",
      "[CV] max_depth=5, max_features=5, n_estimators=300 ...................\n",
      "[CV]  max_depth=5, max_features=5, n_estimators=300, score=0.9152700186219739, total=   0.4s\n",
      "[CV] max_depth=5, max_features=5, n_estimators=300 ...................\n",
      "[CV]  max_depth=5, max_features=5, n_estimators=300, score=0.9095992544268406, total=   0.5s\n",
      "[CV] max_depth=5, max_features=5, n_estimators=300 ...................\n",
      "[CV]  max_depth=5, max_features=5, n_estimators=300, score=0.9338303821062441, total=   0.4s\n",
      "[CV] max_depth=5, max_features=10, n_estimators=100 ..................\n",
      "[CV]  max_depth=5, max_features=10, n_estimators=100, score=0.9245810055865922, total=   0.2s\n",
      "[CV] max_depth=5, max_features=10, n_estimators=100 ..................\n",
      "[CV]  max_depth=5, max_features=10, n_estimators=100, score=0.9133271202236719, total=   0.2s\n",
      "[CV] max_depth=5, max_features=10, n_estimators=100 ..................\n",
      "[CV]  max_depth=5, max_features=10, n_estimators=100, score=0.9366262814538676, total=   0.2s\n",
      "[CV] max_depth=5, max_features=10, n_estimators=300 ..................\n",
      "[CV]  max_depth=5, max_features=10, n_estimators=300, score=0.925512104283054, total=   0.7s\n",
      "[CV] max_depth=5, max_features=10, n_estimators=300 ..................\n",
      "[CV]  max_depth=5, max_features=10, n_estimators=300, score=0.9179869524697111, total=   0.6s\n",
      "[CV] max_depth=5, max_features=10, n_estimators=300 ..................\n",
      "[CV]  max_depth=5, max_features=10, n_estimators=300, score=0.9366262814538676, total=   0.6s\n",
      "[CV] max_depth=5, max_features=30, n_estimators=100 ..................\n",
      "[CV]  max_depth=5, max_features=30, n_estimators=100, score=0.9171322160148976, total=   0.4s\n",
      "[CV] max_depth=5, max_features=30, n_estimators=100 ..................\n",
      "[CV]  max_depth=5, max_features=30, n_estimators=100, score=0.9198508853681268, total=   0.4s\n",
      "[CV] max_depth=5, max_features=30, n_estimators=100 ..................\n",
      "[CV]  max_depth=5, max_features=30, n_estimators=100, score=0.9366262814538676, total=   0.4s\n",
      "[CV] max_depth=5, max_features=30, n_estimators=300 ..................\n",
      "[CV]  max_depth=5, max_features=30, n_estimators=300, score=0.9199255121042831, total=   1.3s\n",
      "[CV] max_depth=5, max_features=30, n_estimators=300 ..................\n",
      "[CV]  max_depth=5, max_features=30, n_estimators=300, score=0.9198508853681268, total=   1.8s\n",
      "[CV] max_depth=5, max_features=30, n_estimators=300 ..................\n",
      "[CV]  max_depth=5, max_features=30, n_estimators=300, score=0.9338303821062441, total=   1.6s\n",
      "[CV] max_depth=5, max_features=56, n_estimators=100 ..................\n",
      "[CV]  max_depth=5, max_features=56, n_estimators=100, score=0.9134078212290503, total=   0.9s\n",
      "[CV] max_depth=5, max_features=56, n_estimators=100 ..................\n",
      "[CV]  max_depth=5, max_features=56, n_estimators=100, score=0.9226467847157502, total=   0.7s\n",
      "[CV] max_depth=5, max_features=56, n_estimators=100 ..................\n",
      "[CV]  max_depth=5, max_features=56, n_estimators=100, score=0.9291705498602051, total=   0.7s\n",
      "[CV] max_depth=5, max_features=56, n_estimators=300 ..................\n",
      "[CV]  max_depth=5, max_features=56, n_estimators=300, score=0.9152700186219739, total=   2.4s\n",
      "[CV] max_depth=5, max_features=56, n_estimators=300 ..................\n",
      "[CV]  max_depth=5, max_features=56, n_estimators=300, score=0.9245107176141659, total=   2.5s\n",
      "[CV] max_depth=5, max_features=56, n_estimators=300 ..................\n",
      "[CV]  max_depth=5, max_features=56, n_estimators=300, score=0.9273066169617894, total=   2.2s\n",
      "[CV] max_depth=10, max_features=1, n_estimators=100 ..................\n",
      "[CV]  max_depth=10, max_features=1, n_estimators=100, score=0.9022346368715084, total=   0.0s\n",
      "[CV] max_depth=10, max_features=1, n_estimators=100 ..................\n",
      "[CV]  max_depth=10, max_features=1, n_estimators=100, score=0.9086672879776329, total=   0.0s\n",
      "[CV] max_depth=10, max_features=1, n_estimators=100 ..................\n",
      "[CV]  max_depth=10, max_features=1, n_estimators=100, score=0.9226467847157502, total=   0.0s\n",
      "[CV] max_depth=10, max_features=1, n_estimators=300 ..................\n",
      "[CV]  max_depth=10, max_features=1, n_estimators=300, score=0.8994413407821229, total=   0.3s\n",
      "[CV] max_depth=10, max_features=1, n_estimators=300 ..................\n",
      "[CV]  max_depth=10, max_features=1, n_estimators=300, score=0.9114631873252563, total=   0.3s\n",
      "[CV] max_depth=10, max_features=1, n_estimators=300 ..................\n",
      "[CV]  max_depth=10, max_features=1, n_estimators=300, score=0.918918918918919, total=   0.3s\n",
      "[CV] max_depth=10, max_features=5, n_estimators=100 ..................\n",
      "[CV]  max_depth=10, max_features=5, n_estimators=100, score=0.9348230912476723, total=   0.1s\n",
      "[CV] max_depth=10, max_features=5, n_estimators=100 ..................\n",
      "[CV]  max_depth=10, max_features=5, n_estimators=100, score=0.934762348555452, total=   0.1s\n",
      "[CV] max_depth=10, max_features=5, n_estimators=100 ..................\n",
      "[CV]  max_depth=10, max_features=5, n_estimators=100, score=0.9487418452935694, total=   0.1s\n",
      "[CV] max_depth=10, max_features=5, n_estimators=300 ..................\n",
      "[CV]  max_depth=10, max_features=5, n_estimators=300, score=0.9338919925512105, total=   0.5s\n",
      "[CV] max_depth=10, max_features=5, n_estimators=300 ..................\n",
      "[CV]  max_depth=10, max_features=5, n_estimators=300, score=0.9319664492078286, total=   0.7s\n",
      "[CV] max_depth=10, max_features=5, n_estimators=300 ..................\n",
      "[CV]  max_depth=10, max_features=5, n_estimators=300, score=0.9478098788443616, total=   0.7s\n",
      "[CV] max_depth=10, max_features=10, n_estimators=100 .................\n",
      "[CV]  max_depth=10, max_features=10, n_estimators=100, score=0.9338919925512105, total=   0.2s\n",
      "[CV] max_depth=10, max_features=10, n_estimators=100 .................\n",
      "[CV]  max_depth=10, max_features=10, n_estimators=100, score=0.9328984156570364, total=   0.2s\n",
      "[CV] max_depth=10, max_features=10, n_estimators=100 .................\n",
      "[CV]  max_depth=10, max_features=10, n_estimators=100, score=0.9487418452935694, total=   0.2s\n",
      "[CV] max_depth=10, max_features=10, n_estimators=300 .................\n",
      "[CV]  max_depth=10, max_features=10, n_estimators=300, score=0.9283054003724395, total=   0.8s\n",
      "[CV] max_depth=10, max_features=10, n_estimators=300 .................\n",
      "[CV]  max_depth=10, max_features=10, n_estimators=300, score=0.9328984156570364, total=   0.8s\n",
      "[CV] max_depth=10, max_features=10, n_estimators=300 .................\n",
      "[CV]  max_depth=10, max_features=10, n_estimators=300, score=0.9468779123951537, total=   0.8s\n",
      "[CV] max_depth=10, max_features=30, n_estimators=100 .................\n",
      "[CV]  max_depth=10, max_features=30, n_estimators=100, score=0.9292364990689013, total=   0.6s\n",
      "[CV] max_depth=10, max_features=30, n_estimators=100 .................\n",
      "[CV]  max_depth=10, max_features=30, n_estimators=100, score=0.9301025163094129, total=   0.6s\n",
      "[CV] max_depth=10, max_features=30, n_estimators=100 .................\n",
      "[CV]  max_depth=10, max_features=30, n_estimators=100, score=0.9412861136999068, total=   0.6s\n",
      "[CV] max_depth=10, max_features=30, n_estimators=300 .................\n",
      "[CV]  max_depth=10, max_features=30, n_estimators=300, score=0.931098696461825, total=   2.1s\n",
      "[CV] max_depth=10, max_features=30, n_estimators=300 .................\n",
      "[CV]  max_depth=10, max_features=30, n_estimators=300, score=0.9301025163094129, total=   2.1s\n",
      "[CV] max_depth=10, max_features=30, n_estimators=300 .................\n",
      "[CV]  max_depth=10, max_features=30, n_estimators=300, score=0.9384902143522833, total=   2.1s\n",
      "[CV] max_depth=10, max_features=56, n_estimators=100 .................\n",
      "[CV]  max_depth=10, max_features=56, n_estimators=100, score=0.9236499068901304, total=   1.2s\n",
      "[CV] max_depth=10, max_features=56, n_estimators=100 .................\n",
      "[CV]  max_depth=10, max_features=56, n_estimators=100, score=0.9273066169617894, total=   1.2s\n",
      "[CV] max_depth=10, max_features=56, n_estimators=100 .................\n",
      "[CV]  max_depth=10, max_features=56, n_estimators=100, score=0.9356943150046598, total=   1.2s\n",
      "[CV] max_depth=10, max_features=56, n_estimators=300 .................\n",
      "[CV]  max_depth=10, max_features=56, n_estimators=300, score=0.9245810055865922, total=   3.7s\n",
      "[CV] max_depth=10, max_features=56, n_estimators=300 .................\n",
      "[CV]  max_depth=10, max_features=56, n_estimators=300, score=0.9291705498602051, total=   3.9s\n",
      "[CV] max_depth=10, max_features=56, n_estimators=300 .................\n",
      "[CV]  max_depth=10, max_features=56, n_estimators=300, score=0.9366262814538676, total=   4.0s\n",
      "[CV] max_depth=20, max_features=1, n_estimators=100 ..................\n",
      "[CV]  max_depth=20, max_features=1, n_estimators=100, score=0.9273743016759777, total=   0.1s\n",
      "[CV] max_depth=20, max_features=1, n_estimators=100 ..................\n",
      "[CV]  max_depth=20, max_features=1, n_estimators=100, score=0.9301025163094129, total=   0.1s\n",
      "[CV] max_depth=20, max_features=1, n_estimators=100 ..................\n",
      "[CV]  max_depth=20, max_features=1, n_estimators=100, score=0.9459459459459459, total=   0.1s\n",
      "[CV] max_depth=20, max_features=1, n_estimators=300 ..................\n",
      "[CV]  max_depth=20, max_features=1, n_estimators=300, score=0.9264432029795159, total=   0.4s\n",
      "[CV] max_depth=20, max_features=1, n_estimators=300 ..................\n",
      "[CV]  max_depth=20, max_features=1, n_estimators=300, score=0.9282385834109972, total=   0.4s\n",
      "[CV] max_depth=20, max_features=1, n_estimators=300 ..................\n",
      "[CV]  max_depth=20, max_features=1, n_estimators=300, score=0.9515377446411929, total=   0.4s\n",
      "[CV] max_depth=20, max_features=5, n_estimators=100 ..................\n",
      "[CV]  max_depth=20, max_features=5, n_estimators=100, score=0.9404096834264432, total=   0.2s\n",
      "[CV] max_depth=20, max_features=5, n_estimators=100 ..................\n",
      "[CV]  max_depth=20, max_features=5, n_estimators=100, score=0.9384902143522833, total=   0.2s\n",
      "[CV] max_depth=20, max_features=5, n_estimators=100 ..................\n",
      "[CV]  max_depth=20, max_features=5, n_estimators=100, score=0.9571295433364398, total=   0.2s\n",
      "[CV] max_depth=20, max_features=5, n_estimators=300 ..................\n",
      "[CV]  max_depth=20, max_features=5, n_estimators=300, score=0.9376163873370578, total=   0.7s\n",
      "[CV] max_depth=20, max_features=5, n_estimators=300 ..................\n",
      "[CV]  max_depth=20, max_features=5, n_estimators=300, score=0.940354147250699, total=   0.7s\n",
      "[CV] max_depth=20, max_features=5, n_estimators=300 ..................\n",
      "[CV]  max_depth=20, max_features=5, n_estimators=300, score=0.9561975768872321, total=   0.7s\n",
      "[CV] max_depth=20, max_features=10, n_estimators=100 .................\n",
      "[CV]  max_depth=20, max_features=10, n_estimators=100, score=0.9329608938547486, total=   0.3s\n",
      "[CV] max_depth=20, max_features=10, n_estimators=100 .................\n",
      "[CV]  max_depth=20, max_features=10, n_estimators=100, score=0.9412861136999068, total=   0.3s\n",
      "[CV] max_depth=20, max_features=10, n_estimators=100 .................\n",
      "[CV]  max_depth=20, max_features=10, n_estimators=100, score=0.9561975768872321, total=   0.3s\n",
      "[CV] max_depth=20, max_features=10, n_estimators=300 .................\n",
      "[CV]  max_depth=20, max_features=10, n_estimators=300, score=0.9320297951582868, total=   1.0s\n",
      "[CV] max_depth=20, max_features=10, n_estimators=300 .................\n",
      "[CV]  max_depth=20, max_features=10, n_estimators=300, score=0.9440820130475303, total=   1.0s\n",
      "[CV] max_depth=20, max_features=10, n_estimators=300 .................\n",
      "[CV]  max_depth=20, max_features=10, n_estimators=300, score=0.9543336439888164, total=   1.0s\n",
      "[CV] max_depth=20, max_features=30, n_estimators=100 .................\n",
      "[CV]  max_depth=20, max_features=30, n_estimators=100, score=0.9292364990689013, total=   0.9s\n",
      "[CV] max_depth=20, max_features=30, n_estimators=100 .................\n",
      "[CV]  max_depth=20, max_features=30, n_estimators=100, score=0.9291705498602051, total=   0.9s\n",
      "[CV] max_depth=20, max_features=30, n_estimators=100 .................\n",
      "[CV]  max_depth=20, max_features=30, n_estimators=100, score=0.9496738117427772, total=   0.8s\n",
      "[CV] max_depth=20, max_features=30, n_estimators=300 .................\n",
      "[CV]  max_depth=20, max_features=30, n_estimators=300, score=0.9292364990689013, total=   2.7s\n",
      "[CV] max_depth=20, max_features=30, n_estimators=300 .................\n",
      "[CV]  max_depth=20, max_features=30, n_estimators=300, score=0.9273066169617894, total=   2.7s\n",
      "[CV] max_depth=20, max_features=30, n_estimators=300 .................\n",
      "[CV]  max_depth=20, max_features=30, n_estimators=300, score=0.9468779123951537, total=   2.9s\n",
      "[CV] max_depth=20, max_features=56, n_estimators=100 .................\n",
      "[CV]  max_depth=20, max_features=56, n_estimators=100, score=0.9227188081936686, total=   1.7s\n",
      "[CV] max_depth=20, max_features=56, n_estimators=100 .................\n",
      "[CV]  max_depth=20, max_features=56, n_estimators=100, score=0.9273066169617894, total=   1.7s\n",
      "[CV] max_depth=20, max_features=56, n_estimators=100 .................\n",
      "[CV]  max_depth=20, max_features=56, n_estimators=100, score=0.9431500465983225, total=   2.5s\n",
      "[CV] max_depth=20, max_features=56, n_estimators=300 .................\n",
      "[CV]  max_depth=20, max_features=56, n_estimators=300, score=0.9273743016759777, total=   6.4s\n",
      "[CV] max_depth=20, max_features=56, n_estimators=300 .................\n",
      "[CV]  max_depth=20, max_features=56, n_estimators=300, score=0.9254426840633737, total=   5.3s\n",
      "[CV] max_depth=20, max_features=56, n_estimators=300 .................\n",
      "[CV]  max_depth=20, max_features=56, n_estimators=300, score=0.9459459459459459, total=   5.4s\n"
     ]
    },
    {
     "name": "stderr",
     "output_type": "stream",
     "text": [
      "[Parallel(n_jobs=1)]: Done 150 out of 150 | elapsed:  2.2min finished\n"
     ]
    },
    {
     "data": {
      "text/plain": [
       "GridSearchCV(cv=3, error_score='raise',\n",
       "       estimator=RandomForestClassifier(bootstrap=True, class_weight=None, criterion='gini',\n",
       "            max_depth=None, max_features='auto', max_leaf_nodes=None,\n",
       "            min_impurity_decrease=0.0, min_impurity_split=None,\n",
       "            min_samples_leaf=1, min_samples_split=2,\n",
       "            min_weight_fraction_leaf=0.0, n_estimators=10, n_jobs=1,\n",
       "            oob_score=False, random_state=42, verbose=0, warm_start=False),\n",
       "       fit_params=None, iid=True, n_jobs=1,\n",
       "       param_grid=[{'n_estimators': [100, 300], 'max_depth': [1, 3, 5, 10, 20], 'max_features': [1, 5, 10, 30, 56]}],\n",
       "       pre_dispatch='2*n_jobs', refit=True, return_train_score='warn',\n",
       "       scoring='accuracy', verbose=10)"
      ]
     },
     "execution_count": 104,
     "metadata": {},
     "output_type": "execute_result"
    }
   ],
   "source": [
    "tuned_parameters = [{'n_estimators': [100,300],\n",
    "                     'max_depth': [1,3,5,10,20],\n",
    "                     'max_features': [1,5,10,30,56]}]\n",
    "\n",
    "clf = GridSearchCV(RandomForestClassifier(random_state=42), tuned_parameters, cv=3, scoring='accuracy', verbose=10)\n",
    "clf.fit(X_train, y_train)"
   ]
  },
  {
   "cell_type": "code",
   "execution_count": 105,
   "metadata": {
    "collapsed": false
   },
   "outputs": [
    {
     "name": "stdout",
     "output_type": "stream",
     "text": [
      "Best parameters set found on development set:\n",
      "\n",
      "{'max_depth': 20, 'max_features': 5, 'n_estimators': 100}\n",
      "\n",
      "Grid scores on development set:\n",
      "\n",
      "0.662 (+/-0.008) for {'max_depth': 1, 'max_features': 1, 'n_estimators': 100}\n",
      "0.674 (+/-0.007) for {'max_depth': 1, 'max_features': 1, 'n_estimators': 300}\n",
      "0.814 (+/-0.029) for {'max_depth': 1, 'max_features': 5, 'n_estimators': 100}\n",
      "0.819 (+/-0.014) for {'max_depth': 1, 'max_features': 5, 'n_estimators': 300}\n",
      "0.843 (+/-0.024) for {'max_depth': 1, 'max_features': 10, 'n_estimators': 100}\n",
      "0.843 (+/-0.023) for {'max_depth': 1, 'max_features': 10, 'n_estimators': 300}\n",
      "0.843 (+/-0.031) for {'max_depth': 1, 'max_features': 30, 'n_estimators': 100}\n",
      "0.839 (+/-0.034) for {'max_depth': 1, 'max_features': 30, 'n_estimators': 300}\n",
      "0.812 (+/-0.062) for {'max_depth': 1, 'max_features': 56, 'n_estimators': 100}\n",
      "0.802 (+/-0.032) for {'max_depth': 1, 'max_features': 56, 'n_estimators': 300}\n",
      "0.831 (+/-0.005) for {'max_depth': 3, 'max_features': 1, 'n_estimators': 100}\n",
      "0.832 (+/-0.005) for {'max_depth': 3, 'max_features': 1, 'n_estimators': 300}\n",
      "0.897 (+/-0.026) for {'max_depth': 3, 'max_features': 5, 'n_estimators': 100}\n",
      "0.896 (+/-0.020) for {'max_depth': 3, 'max_features': 5, 'n_estimators': 300}\n",
      "0.910 (+/-0.025) for {'max_depth': 3, 'max_features': 10, 'n_estimators': 100}\n",
      "0.912 (+/-0.023) for {'max_depth': 3, 'max_features': 10, 'n_estimators': 300}\n",
      "0.913 (+/-0.025) for {'max_depth': 3, 'max_features': 30, 'n_estimators': 100}\n",
      "0.913 (+/-0.023) for {'max_depth': 3, 'max_features': 30, 'n_estimators': 300}\n",
      "0.906 (+/-0.029) for {'max_depth': 3, 'max_features': 56, 'n_estimators': 100}\n",
      "0.907 (+/-0.024) for {'max_depth': 3, 'max_features': 56, 'n_estimators': 300}\n",
      "0.869 (+/-0.015) for {'max_depth': 5, 'max_features': 1, 'n_estimators': 100}\n",
      "0.866 (+/-0.014) for {'max_depth': 5, 'max_features': 1, 'n_estimators': 300}\n",
      "0.918 (+/-0.025) for {'max_depth': 5, 'max_features': 5, 'n_estimators': 100}\n",
      "0.920 (+/-0.021) for {'max_depth': 5, 'max_features': 5, 'n_estimators': 300}\n",
      "0.925 (+/-0.019) for {'max_depth': 5, 'max_features': 10, 'n_estimators': 100}\n",
      "0.927 (+/-0.015) for {'max_depth': 5, 'max_features': 10, 'n_estimators': 300}\n",
      "0.925 (+/-0.017) for {'max_depth': 5, 'max_features': 30, 'n_estimators': 100}\n",
      "0.925 (+/-0.013) for {'max_depth': 5, 'max_features': 30, 'n_estimators': 300}\n",
      "0.922 (+/-0.013) for {'max_depth': 5, 'max_features': 56, 'n_estimators': 100}\n",
      "0.922 (+/-0.010) for {'max_depth': 5, 'max_features': 56, 'n_estimators': 300}\n",
      "0.911 (+/-0.017) for {'max_depth': 10, 'max_features': 1, 'n_estimators': 100}\n",
      "0.910 (+/-0.016) for {'max_depth': 10, 'max_features': 1, 'n_estimators': 300}\n",
      "0.939 (+/-0.013) for {'max_depth': 10, 'max_features': 5, 'n_estimators': 100}\n",
      "0.938 (+/-0.014) for {'max_depth': 10, 'max_features': 5, 'n_estimators': 300}\n",
      "0.939 (+/-0.014) for {'max_depth': 10, 'max_features': 10, 'n_estimators': 100}\n",
      "0.936 (+/-0.016) for {'max_depth': 10, 'max_features': 10, 'n_estimators': 300}\n",
      "0.934 (+/-0.011) for {'max_depth': 10, 'max_features': 30, 'n_estimators': 100}\n",
      "0.933 (+/-0.007) for {'max_depth': 10, 'max_features': 30, 'n_estimators': 300}\n",
      "0.929 (+/-0.010) for {'max_depth': 10, 'max_features': 56, 'n_estimators': 100}\n",
      "0.930 (+/-0.010) for {'max_depth': 10, 'max_features': 56, 'n_estimators': 300}\n",
      "0.934 (+/-0.016) for {'max_depth': 20, 'max_features': 1, 'n_estimators': 100}\n",
      "0.935 (+/-0.023) for {'max_depth': 20, 'max_features': 1, 'n_estimators': 300}\n",
      "0.945 (+/-0.017) for {'max_depth': 20, 'max_features': 5, 'n_estimators': 100}\n",
      "0.945 (+/-0.016) for {'max_depth': 20, 'max_features': 5, 'n_estimators': 300}\n",
      "0.943 (+/-0.019) for {'max_depth': 20, 'max_features': 10, 'n_estimators': 100}\n",
      "0.943 (+/-0.018) for {'max_depth': 20, 'max_features': 10, 'n_estimators': 300}\n",
      "0.936 (+/-0.019) for {'max_depth': 20, 'max_features': 30, 'n_estimators': 100}\n",
      "0.934 (+/-0.018) for {'max_depth': 20, 'max_features': 30, 'n_estimators': 300}\n",
      "0.931 (+/-0.018) for {'max_depth': 20, 'max_features': 56, 'n_estimators': 100}\n",
      "0.933 (+/-0.018) for {'max_depth': 20, 'max_features': 56, 'n_estimators': 300}\n",
      "\n",
      "Detailed classification report:\n",
      "\n",
      "The model is trained on the full development set.\n",
      "The scores are computed on the full evaluation set.\n",
      "\n",
      "Accuracy: 0.9573\n",
      "\n"
     ]
    }
   ],
   "source": [
    "print(\"Best parameters set found on development set:\")\n",
    "print()\n",
    "print(clf.best_params_)\n",
    "print()\n",
    "print(\"Grid scores on development set:\")\n",
    "print()\n",
    "means = clf.cv_results_['mean_test_score']\n",
    "stds = clf.cv_results_['std_test_score']\n",
    "for mean, std, params in zip(means, stds, clf.cv_results_['params']):\n",
    "    print(\"%0.3f (+/-%0.03f) for %r\"\n",
    "        % (mean, std * 2, params))\n",
    "print()\n",
    "\n",
    "print(\"Detailed classification report:\")\n",
    "print()\n",
    "print(\"The model is trained on the full development set.\")\n",
    "print(\"The scores are computed on the full evaluation set.\")\n",
    "print()\n",
    "from sklearn.metrics import accuracy_score\n",
    "acc = accuracy_score(y_test, clf.predict(X_test))\n",
    "print(\"Accuracy: %.4f\" % acc)\n",
    "print()"
   ]
  },
  {
   "cell_type": "code",
   "execution_count": null,
   "metadata": {
    "collapsed": true
   },
   "outputs": [],
   "source": []
  }
 ],
 "metadata": {
  "kernelspec": {
   "display_name": "Python 3",
   "language": "python",
   "name": "python3"
  },
  "language_info": {
   "codemirror_mode": {
    "name": "ipython",
    "version": 3
   },
   "file_extension": ".py",
   "mimetype": "text/x-python",
   "name": "python",
   "nbconvert_exporter": "python",
   "pygments_lexer": "ipython3",
   "version": "3.5.3"
  }
 },
 "nbformat": 4,
 "nbformat_minor": 2
}
